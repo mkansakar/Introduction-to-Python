{
 "cells": [
  {
   "cell_type": "markdown",
   "metadata": {},
   "source": [
    "# D05: Dataframes Merging & Concatenating"
   ]
  },
  {
   "cell_type": "markdown",
   "metadata": {},
   "source": [
    "Often when working with data, you'll have different datasets with similar data in that you'll want to merge, concatanate and generally restructure. Additionally, when we come to look at data visualisation, the ability to wrangle a dataframe into a specific format upon which to then visualise is the most important part of the process.\n",
    "\n",
    "We'll start by importing pandas and creating a few custom dataframes."
   ]
  },
  {
   "cell_type": "code",
   "execution_count": null,
   "metadata": {
    "collapsed": true
   },
   "outputs": [],
   "source": [
    "import pandas as pd\n",
    "\n",
    "'''Some custom data '''\n",
    "\n",
    "dict1 = {'a':10,\n",
    "         'b':20,\n",
    "         'c':30,\n",
    "         'd':40,\n",
    "         'e':50,\n",
    "         'f':60,\n",
    "         'g':70}\n",
    "\n",
    "dict2 = {'h':80,\n",
    "         'i':90,\n",
    "         'j':100,\n",
    "         'k':110,\n",
    "         'l':120,\n",
    "         'm':130,\n",
    "         'n':140}\n",
    "\n",
    "dict3 = {'a':'A',\n",
    "         'b':'B',\n",
    "         'c':'C',\n",
    "         'd':'D',\n",
    "         'e':'E',\n",
    "         'f':'F',\n",
    "         'g':'G'}\n",
    "\n",
    "dict4 = {'a':True,\n",
    "         'c':False,\n",
    "         'd':None,\n",
    "         'g':True,\n",
    "         'h':False}\n",
    "\n",
    "''' Making dataframes out of the dictionaries '''\n",
    "\n",
    "df1 = pd.DataFrame(list(dict1.items()),index=None,columns=['col1','col2'])\n",
    "df2 = pd.DataFrame(list(dict2.items()),index=None,columns=['col1','col2'])\n",
    "df3 = pd.DataFrame(list(dict3.items()),index=None,columns=['col1','col3'])\n",
    "df4 = pd.DataFrame(list(dict3.items()),index=None,columns=['col4','col5'])\n",
    "df5 = pd.DataFrame(list(dict4.items()),index=None,columns=['col1','col6'])"
   ]
  },
  {
   "cell_type": "markdown",
   "metadata": {},
   "source": [
    "### Concatenating Dataframes"
   ]
  },
  {
   "cell_type": "markdown",
   "metadata": {},
   "source": [
    "Concatanating data basically means joining it together and it's the most basic form of connecting dataframes to one another. It's best used for sticking dataframes on top of one another and is accomplished as follows:"
   ]
  },
  {
   "cell_type": "code",
   "execution_count": null,
   "metadata": {
    "collapsed": false
   },
   "outputs": [],
   "source": [
    "df5 = pd.concat([df1,df2])       # Concatanating datasets\n",
    "df5"
   ]
  },
  {
   "cell_type": "markdown",
   "metadata": {},
   "source": [
    "You'll notice that the index now has duplicate values, however this is easily fixed with the reset_index() method:"
   ]
  },
  {
   "cell_type": "code",
   "execution_count": null,
   "metadata": {
    "collapsed": false
   },
   "outputs": [],
   "source": [
    "df5 = pd.concat([df1,df2])       # Concatanating datasets \n",
    "df5 = df5.reset_index()          # Resetting an index\n",
    "df5 = df5.drop(['index'],axis=1) # Dropping the old index variable"
   ]
  },
  {
   "cell_type": "markdown",
   "metadata": {},
   "source": [
    "We can also concatenate dataframes with differece structures:"
   ]
  },
  {
   "cell_type": "code",
   "execution_count": null,
   "metadata": {
    "collapsed": false
   },
   "outputs": [],
   "source": [
    "df6 = pd.concat([df1,df3]).reset_index().drop(['index'],axis=1)  # Method chained version\n",
    "df6"
   ]
  },
  {
   "cell_type": "markdown",
   "metadata": {},
   "source": [
    "### Working with Missing data"
   ]
  },
  {
   "cell_type": "markdown",
   "metadata": {},
   "source": [
    "You'll see that the missing data is categorised with NaN - Not a Number. NaN is a numpy data convention that's used by Pandas and indeed most of the data analysis libraries in Python and whilst it may appear as a text string, it's actually not:"
   ]
  },
  {
   "cell_type": "code",
   "execution_count": null,
   "metadata": {
    "collapsed": false
   },
   "outputs": [],
   "source": [
    "type(df6.iloc[0]['col3'])"
   ]
  },
  {
   "cell_type": "markdown",
   "metadata": {},
   "source": [
    "Fortunately pandas makes missing data easy to deal with using the isnull() and notnull() functions:"
   ]
  },
  {
   "cell_type": "code",
   "execution_count": null,
   "metadata": {
    "collapsed": false
   },
   "outputs": [],
   "source": [
    "def missing(row):\n",
    "    if pd.isnull(row['col3']) == True:     # isnull() function\n",
    "        return 'Missing'\n",
    "    elif pd.notnull(row['col3']) == True:  # notnull() function\n",
    "        return 'Not Missing'\n",
    "    \n",
    "df6['Missing'] = df6.apply(missing,axis=1)\n",
    "df6"
   ]
  },
  {
   "cell_type": "markdown",
   "metadata": {},
   "source": [
    "When working with <a href = \"http://pandas.pydata.org/pandas-docs/stable/missing_data.html\">missing data</a> in a dataframe or series, you should always use the isnull or notnull functions. Using other methods may lead to unexpected, or worse incorrect results!"
   ]
  },
  {
   "cell_type": "markdown",
   "metadata": {},
   "source": [
    "You can also concatenate sideways using by passing an axis keyword argument:"
   ]
  },
  {
   "cell_type": "code",
   "execution_count": null,
   "metadata": {
    "collapsed": false
   },
   "outputs": [],
   "source": [
    "df7 = pd.concat([df1,df3],axis=1)\n",
    "df7"
   ]
  },
  {
   "cell_type": "markdown",
   "metadata": {},
   "source": [
    "However there are far better ways to do this with the merge function as we'll see below."
   ]
  },
  {
   "cell_type": "markdown",
   "metadata": {},
   "source": [
    "## Merging Dataframes"
   ]
  },
  {
   "cell_type": "markdown",
   "metadata": {},
   "source": [
    "Merging data is a way of combining data and differs from concatanation in that you can include or exclude records based upon whether they appear in either, one or both datasets.\n",
    "\n",
    "The basic syntax is just as simple as the concat() function."
   ]
  },
  {
   "cell_type": "code",
   "execution_count": null,
   "metadata": {
    "collapsed": false
   },
   "outputs": [],
   "source": [
    "df8 = pd.merge(df1,df3)\n",
    "df8"
   ]
  },
  {
   "cell_type": "markdown",
   "metadata": {},
   "source": [
    "However, we can also spcifify how the join occurs with some keyword arguments:"
   ]
  },
  {
   "cell_type": "code",
   "execution_count": null,
   "metadata": {
    "collapsed": false
   },
   "outputs": [],
   "source": [
    "df8 = pd.merge(left=df1,\n",
    "               right=df4,\n",
    "               left_index=True, \n",
    "               right_index=True)   # Setting both left / right index arguments to true will merge on the index \n",
    "df8"
   ]
  },
  {
   "cell_type": "markdown",
   "metadata": {},
   "source": [
    "Howeverwe could also merge on col1 and col4. We can do that with the left_on and right_on arguments:"
   ]
  },
  {
   "cell_type": "code",
   "execution_count": null,
   "metadata": {
    "collapsed": false
   },
   "outputs": [],
   "source": [
    "df9 = pd.merge(left=df1,\n",
    "               right=df4,\n",
    "               left_on='col1', \n",
    "               right_on='col4',   # Merging using columns using the left_on / right_on arguments:\n",
    "               sort=True,         # Sorting the dataframe\n",
    "               indicator=True)    # Adding a column to indicate the source of data     \n",
    "df9"
   ]
  },
  {
   "cell_type": "markdown",
   "metadata": {},
   "source": [
    "We can also specify which records to keep and exclude with the how keyword argument. There are four values we can specify as follows:\n",
    "\n",
    "* <b>left</b>\n",
    "* <b>right</b>\n",
    "* <b>inner</b>\n",
    "* <b>outer</b>\n",
    "\n",
    "Note that Pandas joins operate in exactly the same way as SQL merges:\n",
    "\n",
    "<img src = \"img/joins.png\">"
   ]
  },
  {
   "cell_type": "code",
   "execution_count": null,
   "metadata": {
    "collapsed": false
   },
   "outputs": [],
   "source": [
    "df10 = pd.merge(left=df1,\n",
    "               right=df5,\n",
    "               how='inner',\n",
    "               sort=True)    # Inner Join (appears in both)    \n",
    "df10"
   ]
  },
  {
   "cell_type": "code",
   "execution_count": null,
   "metadata": {
    "collapsed": false
   },
   "outputs": [],
   "source": [
    "df11 = pd.merge(left=df1,\n",
    "               right=df5,\n",
    "               how='left',\n",
    "               sort=True)    # Left Join     \n",
    "df11"
   ]
  },
  {
   "cell_type": "code",
   "execution_count": null,
   "metadata": {
    "collapsed": false
   },
   "outputs": [],
   "source": [
    "df12 = pd.merge(left=df1,\n",
    "               right=df5,\n",
    "               how='right',\n",
    "               sort=True)    # Right Join     \n",
    "df12"
   ]
  },
  {
   "cell_type": "code",
   "execution_count": null,
   "metadata": {
    "collapsed": false
   },
   "outputs": [],
   "source": [
    "df13 = pd.merge(left=df1,\n",
    "               right=df5,\n",
    "               how='outer',\n",
    "               sort=True)    # Outer Join (appears in either)    \n",
    "df13"
   ]
  },
  {
   "cell_type": "markdown",
   "metadata": {},
   "source": [
    "## Further Reading"
   ]
  },
  {
   "cell_type": "markdown",
   "metadata": {},
   "source": [
    "<a href = \"http://pandas.pydata.org/pandas-docs/stable/missing_data.html\">Missing data in Pandas</a><br/>\n",
    "<a href = \"http://www.numpy.org/NA-overview.html\">Missing data in Numpy</a><br/>\n",
    "<a href = \"http://pandas.pydata.org/pandas-docs/stable/merging.html\">Merge, Join & Concatenate</a><br/>\n",
    "<a href = \"http://pandas.pydata.org/pandas-docs/stable/generated/pandas.concat.html\">Pandas Concat function</a><br/>"
   ]
  }
 ],
 "metadata": {
  "kernelspec": {
   "display_name": "Python 3",
   "language": "python",
   "name": "python3"
  },
  "language_info": {
   "codemirror_mode": {
    "name": "ipython",
    "version": 3
   },
   "file_extension": ".py",
   "mimetype": "text/x-python",
   "name": "python",
   "nbconvert_exporter": "python",
   "pygments_lexer": "ipython3",
   "version": "3.5.1"
  }
 },
 "nbformat": 4,
 "nbformat_minor": 0
}
