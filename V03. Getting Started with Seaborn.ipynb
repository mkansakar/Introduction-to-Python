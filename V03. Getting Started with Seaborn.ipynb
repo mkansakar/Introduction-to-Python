{
 "cells": [
  {
   "cell_type": "markdown",
   "metadata": {},
   "source": [
    "# V03: Getting Started with Seaborn"
   ]
  },
  {
   "cell_type": "markdown",
   "metadata": {},
   "source": [
    "Before we start you will all need to install Seaborn! You can do this by opening up the command line and typing:\n",
    "\n",
    "    conda install seaborn\n",
    "    \n",
    "This will start the automatic process of downloading and installing seaborn."
   ]
  },
  {
   "cell_type": "markdown",
   "metadata": {},
   "source": [
    "We've already seen how we can create some basic charts in Matplotlib. this is a really useful way of quickly and easily eyeballing your data on the fly, but as we've seen it takes a lot of work to make the charts more presentable. Additionally we might also want to make more detailed and complex charts of a statistical nature and that's where Seaborn comes in."
   ]
  },
  {
   "cell_type": "markdown",
   "metadata": {},
   "source": [
    "As with Pandas, Seaborn is built on top of matplotlib so this is a dependency you have to bear in mind when installing Seaborn. Seaborn's main strength is it's ability to produce attractive and useful statistical visualisations at very little effort on the users part. We'll start by importing all the libraries we need."
   ]
  },
  {
   "cell_type": "code",
   "execution_count": null,
   "metadata": {
    "collapsed": false
   },
   "outputs": [],
   "source": [
    "import pandas as pd\n",
    "import numpy as np\n",
    "from numpy.random import randn\n",
    "import matplotlib.pyplot as plt \n",
    "import seaborn as sns # Standard convention for Seaborn\n",
    "%matplotlib inline"
   ]
  },
  {
   "cell_type": "markdown",
   "metadata": {},
   "source": [
    "In this example we're going to be using Numpy Arrays for convinience, but Seaborn integrates very well with pandas and will accept both Series and Dataframe columns as arguments."
   ]
  },
  {
   "cell_type": "code",
   "execution_count": null,
   "metadata": {
    "collapsed": false
   },
   "outputs": [],
   "source": [
    "data1 = (randn(1000))\n",
    "data2 = (randn(1000)+2)\n",
    "data3 = (randn(1000)+4)\n",
    "data4 = (randn(1000)+6)"
   ]
  },
  {
   "cell_type": "markdown",
   "metadata": {},
   "source": [
    "Now lets have a look at some of the charts that Seaborn can generate to analyse the distribution of data. Most of these can be created by using just a couple of lines of code and are pre-formatted to look much better than the basic plots produced by Matplotlib.\n",
    "\n",
    "We'll not be looking into how to fully customise charts creted in Seaborn. However, as Seaborn is built on top of Matplotlib, we can customise charts in exactly the same way as we learned in the previous two lessons. Additionlly, the <a href = \"https://stanford.edu/~mwaskom/software/seaborn/api.html\">Seaborn API reference</a> is excellent and makes this a simple process."
   ]
  },
  {
   "cell_type": "markdown",
   "metadata": {},
   "source": [
    "## JointPlot"
   ]
  },
  {
   "cell_type": "markdown",
   "metadata": {},
   "source": [
    "A Seaborn Jointplot will produce a scatter, bar and column chart for the input data:"
   ]
  },
  {
   "cell_type": "code",
   "execution_count": null,
   "metadata": {
    "collapsed": false
   },
   "outputs": [],
   "source": [
    "chart1 = sns.jointplot(data1,data2)"
   ]
  },
  {
   "cell_type": "markdown",
   "metadata": {},
   "source": [
    "A hexy jointplot:"
   ]
  },
  {
   "cell_type": "code",
   "execution_count": null,
   "metadata": {
    "collapsed": false
   },
   "outputs": [],
   "source": [
    "sns.jointplot(data1,data2,kind='hex')"
   ]
  },
  {
   "cell_type": "markdown",
   "metadata": {},
   "source": [
    "## Kernel Density Estimation (KDE)"
   ]
  },
  {
   "cell_type": "markdown",
   "metadata": {},
   "source": [
    "A good way to estimate clusters in data is to use a desntity smoothing function, in this case <a href = \"http://www.mvstat.net/tduong/research/seminars/seminar-2001-05/\">Kernel Density Estimation (KDE)</a>. A KDE plot works by placing a value of density referred to as a 'Kernel' on each data point and then summing these to create a density for a specific region. visualising this. They are a kind of 'heatmap' although as we shall see below, Seaborn can produce traditional heatmaps as well."
   ]
  },
  {
   "cell_type": "code",
   "execution_count": null,
   "metadata": {
    "collapsed": false
   },
   "outputs": [],
   "source": [
    "chart = sns.kdeplot(data1,data2,shade=True)"
   ]
  },
  {
   "cell_type": "markdown",
   "metadata": {},
   "source": [
    "Combining a Jointplot with KDE"
   ]
  },
  {
   "cell_type": "code",
   "execution_count": null,
   "metadata": {
    "collapsed": false
   },
   "outputs": [],
   "source": [
    "sns.jointplot(data1,data2,kind='kde')"
   ]
  },
  {
   "cell_type": "markdown",
   "metadata": {},
   "source": [
    "## Box and Violin Plots"
   ]
  },
  {
   "cell_type": "markdown",
   "metadata": {},
   "source": [
    "<a href = \"http://www.bbc.co.uk/schools/gcsebitesize/maths/statistics/representingdata3hirev6.shtml\">Boxplots</a> visualise the shape and variability of data. They're good for showing whether data is centred or 'skewed' to either the left or the right via the <a href = \"http://stattrek.com/statistics/dictionary.aspx?definition=Interquartile%20range\">Inter Quartile Range</a>."
   ]
  },
  {
   "cell_type": "code",
   "execution_count": null,
   "metadata": {
    "collapsed": false
   },
   "outputs": [],
   "source": [
    "sns.boxplot([data1])"
   ]
  },
  {
   "cell_type": "markdown",
   "metadata": {},
   "source": [
    "<a href = \"https://en.wikipedia.org/wiki/Violin_plot\">Violinplots</a> are a cross bewteen boxplots and Kernel Density Estimation. Typically violin plots will include a marker for the median of the data and a box indicating the interquartile range, as in standard box plots, with a KDE overlaid."
   ]
  },
  {
   "cell_type": "code",
   "execution_count": null,
   "metadata": {
    "collapsed": false
   },
   "outputs": [],
   "source": [
    "sns.violinplot(data2)"
   ]
  },
  {
   "cell_type": "markdown",
   "metadata": {},
   "source": [
    "You can also do grouped Box and Violin Plots with more than one output. This is best illustrated with a pandas dataframe so we're going to load the tips dataset that comes as part of the Seaborn package."
   ]
  },
  {
   "cell_type": "code",
   "execution_count": null,
   "metadata": {
    "collapsed": false
   },
   "outputs": [],
   "source": [
    "tips = sns.load_dataset(\"tips\")\n",
    "tips.head(5)"
   ]
  },
  {
   "cell_type": "code",
   "execution_count": null,
   "metadata": {
    "collapsed": false
   },
   "outputs": [],
   "source": [
    "sns.violinplot(x=\"sex\", y=\"total_bill\", data=tips)"
   ]
  },
  {
   "cell_type": "code",
   "execution_count": null,
   "metadata": {
    "collapsed": false
   },
   "outputs": [],
   "source": [
    "sns.violinplot(x=\"day\", y=\"total_bill\", data=tips)"
   ]
  },
  {
   "cell_type": "markdown",
   "metadata": {},
   "source": [
    "## Heatmaps"
   ]
  },
  {
   "cell_type": "markdown",
   "metadata": {
    "collapsed": true
   },
   "source": [
    "Seaborn also comes with some datasets which we can use to explore some of the other types of charts, including heatmaps."
   ]
  },
  {
   "cell_type": "code",
   "execution_count": null,
   "metadata": {
    "collapsed": false
   },
   "outputs": [],
   "source": [
    "flight_dframe = sns.load_dataset('flights')                      # Importing the dataset\n",
    "flight_dframe = flight_dframe.pivot(\"month\",\"year\",\"passengers\") # Pivoting the dataset\n",
    "sns.heatmap(flight_dframe)                                       # Creating the heatmap"
   ]
  },
  {
   "cell_type": "markdown",
   "metadata": {},
   "source": [
    "## Regression & Pair Plots"
   ]
  },
  {
   "cell_type": "markdown",
   "metadata": {},
   "source": [
    "Seaborn can also do some pretty powerful Regression and Pair plots, however we'll look at those in more depth in the section on Regression and Machine Learning!"
   ]
  }
 ],
 "metadata": {
  "kernelspec": {
   "display_name": "Python 3",
   "language": "python",
   "name": "python3"
  },
  "language_info": {
   "codemirror_mode": {
    "name": "ipython",
    "version": 3
   },
   "file_extension": ".py",
   "mimetype": "text/x-python",
   "name": "python",
   "nbconvert_exporter": "python",
   "pygments_lexer": "ipython3",
   "version": "3.5.1"
  }
 },
 "nbformat": 4,
 "nbformat_minor": 0
}
