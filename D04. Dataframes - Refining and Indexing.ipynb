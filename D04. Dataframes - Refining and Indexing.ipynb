{
 "cells": [
  {
   "cell_type": "markdown",
   "metadata": {},
   "source": [
    "# D04: Dataframes - Refining and Indexing"
   ]
  },
  {
   "cell_type": "markdown",
   "metadata": {},
   "source": [
    "We've made a good start to learning about dataframes, but there's still plenty more to discover! We'll start this chapter by re-running the code from the previous chapter to continue working with the same dataset."
   ]
  },
  {
   "cell_type": "code",
   "execution_count": null,
   "metadata": {
    "collapsed": false
   },
   "outputs": [],
   "source": [
    "import pandas as pd\n",
    "\n",
    "path = \"https://vincentarelbundock.github.io/Rdatasets/csv/multgee/arthritis.csv\" # Arthritis dataset\n",
    "df = pd.read_csv(path)\n",
    "\n",
    "new_names = {'Unnamed: 0':'Index',\n",
    "             'id':'Patient ID',\n",
    "             'y':'Arthritis Score',\n",
    "             'sex':'Gender',\n",
    "             'age':'Age',\n",
    "             'trt':'Treatment Type',\n",
    "             'baseline':'Baseline Arthritis Score',\n",
    "             'time':'Time of Score'}                                   # Dictionary of new column names\n",
    "\n",
    "order = ['Index','Patient ID','Gender','Age','Treatment Type',\n",
    "         'Baseline Arthritis Score','Arthritis Score','Time of Score'] # List of the new column order\n",
    "  \n",
    "# Refining the structure of the dataset:\n",
    "    \n",
    "df = df.rename(columns = new_names)                    # Applying the new names to the dataframe\n",
    "df = df[order]                                         # Ordering the columns in the dataframe\n",
    "df = df.drop(['Index'],axis=1)                         # Dropping a column. The axis=1 is used to specify the vertical (column) axis\n",
    "df = df.sort_values(by=['Patient ID','Time of Score']) # Sorting the dataframe by 2 x variables\n",
    "\n",
    "# Creating a new column with a function\n",
    "\n",
    "def gd_change (row):              \n",
    "    if row['Gender'] == 1:\n",
    "        return 'M'\n",
    "    elif row['Gender'] == 2:\n",
    "        return 'F'\n",
    "    else:\n",
    "        return 'O'\n",
    "    \n",
    "def trt_change (row):              \n",
    "    if row['Treatment Type'] == 1:\n",
    "        return 'Treatment'\n",
    "    elif row['Treatment Type'] == 2:\n",
    "        return 'Placebo'\n",
    "    else:\n",
    "        return 'Other'\n",
    "    \n",
    "df['Gender Desc'] = df.apply(gd_change,axis=1)     \n",
    "df['Treatment Desc'] = df.apply(trt_change,axis=1)\n",
    "df['Arthritis Score'] = df['Arthritis Score'].fillna(0).astype('int')\n",
    "df.head(5)"
   ]
  },
  {
   "cell_type": "markdown",
   "metadata": {},
   "source": [
    "## Selecting / Keeping columns"
   ]
  },
  {
   "cell_type": "markdown",
   "metadata": {},
   "source": [
    "We've already seen in the previous lesson how to drop columns from a pandas dataframe:"
   ]
  },
  {
   "cell_type": "code",
   "execution_count": null,
   "metadata": {
    "collapsed": false
   },
   "outputs": [],
   "source": [
    "df['Blank'] = ''                # Creating a blank column to drop\n",
    "df = df.drop(['Blank'],axis=1)  # Dropping a column. The axis = 1 is used to specify the vertical (column) axis"
   ]
  },
  {
   "cell_type": "markdown",
   "metadata": {},
   "source": [
    "Selecting or keeping columns is just as, if not more, simple and accompished in exactly the same way as re-ordering columns:"
   ]
  },
  {
   "cell_type": "code",
   "execution_count": null,
   "metadata": {
    "collapsed": false
   },
   "outputs": [],
   "source": [
    "df.columns               # Using the columns method to return a list of columns from which to copy & paste"
   ]
  },
  {
   "cell_type": "code",
   "execution_count": null,
   "metadata": {
    "collapsed": false
   },
   "outputs": [],
   "source": [
    "select = ['Patient ID', 'Age','Gender Desc', 'Treatment Desc','Baseline Arthritis Score', 'Arthritis Score',\n",
    "          'Time of Score']  # List of variables to keep\n",
    "df = df[select]                                             # Keep / Select / Re-ordering statement\n",
    "df.head(10)"
   ]
  },
  {
   "cell_type": "markdown",
   "metadata": {},
   "source": [
    "## Where clauses / statements"
   ]
  },
  {
   "cell_type": "markdown",
   "metadata": {},
   "source": [
    "You should already be familiar with where clauses - clauses that are used to extract records that fit certain criteria. Pandas has a number of options for this as follows:"
   ]
  },
  {
   "cell_type": "code",
   "execution_count": null,
   "metadata": {
    "collapsed": false
   },
   "outputs": [],
   "source": [
    "df2 = df[(df['Age'] > 50)]                                                                     # Single where clause                        \n",
    "df3 = df[(df['Age'] <= 50) & (df['Baseline Arthritis Score'] == 5)]                            # Multiple where clause\n",
    "df4 = df[(df['Age'] <= 50) | (df['Baseline Arthritis Score'] == 5)]                            # Or clause\n",
    "df5 = df[df['Baseline Arthritis Score'].isin([1,2,3])]                                         # In list\n",
    "df6 = df[~df['Baseline Arthritis Score'].isin([1,2,3])]                                        # Not in list - note the ~ \n",
    "df7 = df[df['Baseline Arthritis Score'].isin([1,2,3]) & (df['Baseline Arthritis Score'] != 5)] # Combination of both where and inlist"
   ]
  },
  {
   "cell_type": "code",
   "execution_count": null,
   "metadata": {
    "collapsed": false
   },
   "outputs": [],
   "source": [
    "df2.head(5)"
   ]
  },
  {
   "cell_type": "code",
   "execution_count": null,
   "metadata": {
    "collapsed": false
   },
   "outputs": [],
   "source": [
    "df3.head(5)"
   ]
  },
  {
   "cell_type": "code",
   "execution_count": null,
   "metadata": {
    "collapsed": false
   },
   "outputs": [],
   "source": [
    "df4.head(5)"
   ]
  },
  {
   "cell_type": "code",
   "execution_count": null,
   "metadata": {
    "collapsed": false
   },
   "outputs": [],
   "source": [
    "df5.head(5)"
   ]
  },
  {
   "cell_type": "code",
   "execution_count": null,
   "metadata": {
    "collapsed": false
   },
   "outputs": [],
   "source": [
    "df6.head(5)"
   ]
  },
  {
   "cell_type": "code",
   "execution_count": null,
   "metadata": {
    "collapsed": false
   },
   "outputs": [],
   "source": [
    "df7.head(5)"
   ]
  },
  {
   "cell_type": "markdown",
   "metadata": {},
   "source": [
    "Where clauses are technially referred to as <a href = \"http://pandas.pydata.org/pandas-docs/stable/indexing.html#boolean-indexing\">Boolean Indexing</a> in Pandas, but we'll continue to refer to them as where clauses because it's a term that people are more comfortable with. Additionally there are many operators you can use in where clauses. A selection of these is as follows:\n",
    "\n",
    "'=='   Equal to <br/>\n",
    "'!='   Not equal to <br/>\n",
    "'>'    Greater than <br/>\n",
    "'>='   Greater than or Equal to <br/>\n",
    "'<'    Less than <br/>\n",
    "'<='   Less than or equal to <br/>\n",
    "'&'    And <br/>\n",
    "'|'    Or <br/>\n",
    "\n",
    "You can find a more extensive list <a href = \"http://www.tutorialspoint.com/python/python_basic_operators.htm\">here</a>."
   ]
  },
  {
   "cell_type": "markdown",
   "metadata": {},
   "source": [
    "## Indexing & Retrieving records"
   ]
  },
  {
   "cell_type": "markdown",
   "metadata": {},
   "source": [
    "We've already seen indexing with basic data structures and you'll be pleased to hear that indexing in Pandas works much the same way! Note that indexing can be a confusing concept for some who are used to working with spreadsheets and relational databases, but it needn't be. All it essentially is is a way to catalogue and uniquely identify data with references.\n",
    "\n",
    "However there are a few ways to go about it! Firstly we'll explore the iloc method. This is short for <b>integer location</b> and returns a record based upon its position in the dataframe rather than the index."
   ]
  },
  {
   "cell_type": "code",
   "execution_count": null,
   "metadata": {
    "collapsed": false
   },
   "outputs": [],
   "source": [
    "df6.iloc[0]       # Selecting a record based upon the location in the dataframe"
   ]
  },
  {
   "cell_type": "markdown",
   "metadata": {},
   "source": [
    "We can also pass a column header to retrieve a specific value:"
   ]
  },
  {
   "cell_type": "code",
   "execution_count": null,
   "metadata": {
    "collapsed": false
   },
   "outputs": [],
   "source": [
    "df6.iloc[0]['Age'] # Selecting a record and a column header"
   ]
  },
  {
   "cell_type": "markdown",
   "metadata": {},
   "source": [
    "We can also specify slices:"
   ]
  },
  {
   "cell_type": "code",
   "execution_count": null,
   "metadata": {
    "collapsed": false
   },
   "outputs": [],
   "source": [
    "df6.iloc[0:7]     # Selecting records based upon a slice"
   ]
  },
  {
   "cell_type": "code",
   "execution_count": null,
   "metadata": {
    "collapsed": false
   },
   "outputs": [],
   "source": [
    "df6.iloc[0:7][['Patient ID','Arthritis Score']]   # Selecting records based upon a slice and a column list"
   ]
  },
  {
   "cell_type": "markdown",
   "metadata": {},
   "source": [
    "We can also manually set an index on a dataframe to replace the default index:"
   ]
  },
  {
   "cell_type": "code",
   "execution_count": null,
   "metadata": {
    "collapsed": false
   },
   "outputs": [],
   "source": [
    "df7 = pd.DataFrame({'col1':['A','B','C','D','E','F','G','H','I','J'],  # Setting column1 data\n",
    "                    'col2':[1,2,3,4,5,6,7,8,9,0]},                     # Setting column2 data\n",
    "                    index = ['a','b','c','d','e','f','g','h','i','j']) # Creating index values\n",
    "df7"
   ]
  },
  {
   "cell_type": "markdown",
   "metadata": {},
   "source": [
    "Note that iloc method does not recognise the index value, just the index location. As such it will return an error if you try and reference the index:"
   ]
  },
  {
   "cell_type": "code",
   "execution_count": null,
   "metadata": {
    "collapsed": false
   },
   "outputs": [],
   "source": [
    "df7.iloc['a']"
   ]
  },
  {
   "cell_type": "markdown",
   "metadata": {},
   "source": [
    "However you can use the ix method to return a row based upon the index value:"
   ]
  },
  {
   "cell_type": "code",
   "execution_count": null,
   "metadata": {
    "collapsed": false
   },
   "outputs": [],
   "source": [
    "df7.ix['a']"
   ]
  },
  {
   "cell_type": "markdown",
   "metadata": {},
   "source": [
    "We also have the option to reset the index and set a new index too:"
   ]
  },
  {
   "cell_type": "code",
   "execution_count": null,
   "metadata": {
    "collapsed": false
   },
   "outputs": [],
   "source": [
    "df7 = df7.reset_index()        # Resetting the index\n",
    "df7 = df7.set_index('col1')    # Setting the index to a new variable\n",
    "df7.index.name = None          # Removing the index name to make it look nicer\n",
    "df7"
   ]
  },
  {
   "cell_type": "markdown",
   "metadata": {},
   "source": [
    "## Further Reading"
   ]
  },
  {
   "cell_type": "markdown",
   "metadata": {},
   "source": [
    "<a href = \"http://stackoverflow.com/questions/31593201/pandas-iloc-vs-ix-vs-loc-explanation\">Excellent explanation of Advanced Indexing with loc, iloc and ix</a><br/>\n",
    "<a href = \"http://pandas.pydata.org/pandas-docs/stable/advanced.html\">Multi-indexing and advanced indexing features</a><br/>"
   ]
  }
 ],
 "metadata": {
  "kernelspec": {
   "display_name": "Python 3",
   "language": "python",
   "name": "python3"
  },
  "language_info": {
   "codemirror_mode": {
    "name": "ipython",
    "version": 3
   },
   "file_extension": ".py",
   "mimetype": "text/x-python",
   "name": "python",
   "nbconvert_exporter": "python",
   "pygments_lexer": "ipython3",
   "version": "3.5.1"
  }
 },
 "nbformat": 4,
 "nbformat_minor": 0
}
