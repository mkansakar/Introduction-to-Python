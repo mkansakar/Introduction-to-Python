{
 "cells": [
  {
   "cell_type": "markdown",
   "metadata": {},
   "source": [
    "# B03: Functions"
   ]
  },
  {
   "cell_type": "markdown",
   "metadata": {},
   "source": [
    "A function is a block of organized, reusable code that is used to perform a single action. Function make writing code a lot easier since instead of having to repeat blocks of code over and over, we can call functions with specific paramters instead. The syntax to call a function in Python is as follows:\n",
    "\n",
    "function(parameter,parameter...)\n",
    "\n",
    "The parameters can be anything... objects, strings, text, blanks etc.\n",
    "\n",
    "Python has some functions 'built in' but we can create our own custom functions too.\n",
    "\n",
    "We've already met 2 functions:\n",
    "\n",
    "* type()\n",
    "* print()\n",
    "\n",
    "Lets meet another couplle of functions... len() and help()\n",
    "\n",
    "The len() function can be used to tell us how long a particular variable or object is, in this case a character string:"
   ]
  },
  {
   "cell_type": "markdown",
   "metadata": {},
   "source": [
    "### The len() function"
   ]
  },
  {
   "cell_type": "markdown",
   "metadata": {},
   "source": [
    "The len() function can be used to tell us how long a particular variable or object is, in this case a character string:"
   ]
  },
  {
   "cell_type": "code",
   "execution_count": null,
   "metadata": {
    "collapsed": false
   },
   "outputs": [],
   "source": [
    "a = \"Hello World\"\n",
    "len(a)"
   ]
  },
  {
   "cell_type": "markdown",
   "metadata": {},
   "source": [
    "### The help() function"
   ]
  },
  {
   "cell_type": "markdown",
   "metadata": {},
   "source": [
    "And the help() function can return some useful help on functions, variables and objects. In this case we'll call it on the len() function:"
   ]
  },
  {
   "cell_type": "code",
   "execution_count": null,
   "metadata": {
    "collapsed": false,
    "scrolled": true
   },
   "outputs": [],
   "source": [
    "help(len)"
   ]
  },
  {
   "cell_type": "markdown",
   "metadata": {},
   "source": [
    "Note that we didn't need to put () after len"
   ]
  },
  {
   "cell_type": "markdown",
   "metadata": {},
   "source": [
    "help() is a really useful function that can tell you more about anything and everytihng in Python. When you're starting out it's an excellent friend to make early on! =)"
   ]
  },
  {
   "cell_type": "markdown",
   "metadata": {},
   "source": [
    "### Nesting Functions:"
   ]
  },
  {
   "cell_type": "markdown",
   "metadata": {},
   "source": [
    "You can also \"nest\" functions inside one another like so:"
   ]
  },
  {
   "cell_type": "code",
   "execution_count": null,
   "metadata": {
    "collapsed": false
   },
   "outputs": [],
   "source": [
    "a = \"Hello World\"\n",
    "print(len(a))"
   ]
  },
  {
   "cell_type": "markdown",
   "metadata": {},
   "source": [
    "This is a good way to keep your code compact and succinct."
   ]
  },
  {
   "cell_type": "markdown",
   "metadata": {},
   "source": [
    "## Creating Functions"
   ]
  },
  {
   "cell_type": "markdown",
   "metadata": {},
   "source": [
    "Lets have a go at creating our own function that prints some traffic count volumes:"
   ]
  },
  {
   "cell_type": "code",
   "execution_count": null,
   "metadata": {
    "collapsed": true
   },
   "outputs": [],
   "source": [
    "def traffic_printer(cars,bikes,buses):\n",
    "    print(cars)\n",
    "    print(bikes)\n",
    "    print(buses)"
   ]
  },
  {
   "cell_type": "markdown",
   "metadata": {},
   "source": [
    "The <strong>def</strong> keyword defines the function, and this is followed by the function name, in this case 'traffic_printer'. The brackets contain the parameters of our function, in this case, cars, bike and buses. Finally we have a colon to signify that the body of the function is about to follow."
   ]
  },
  {
   "cell_type": "markdown",
   "metadata": {},
   "source": [
    "We then have 3 x print() statements which you'll see are indented. This is because in Python <b>Whitespace is Significant</b>! and the indentation is part of the syntax that Python is using to understand where the various bits of the function begin and end.\n",
    "\n",
    "Note that Python will count a single space as an indentation but the general convention is that 4 spaces or 1 tab is used for each level of indentation. This is because this makes the code more readable and <b>Readability Counts</b>"
   ]
  },
  {
   "cell_type": "markdown",
   "metadata": {},
   "source": [
    "You'll also notice that when we execute the code, Python hasn't returned anything. This is because that whilst we have defined the function, we've not called it, nor given it any paramters. We'll fix that now."
   ]
  },
  {
   "cell_type": "markdown",
   "metadata": {},
   "source": [
    "If no parameters are explicitly stated, Python will rely upon the position /order of the paramters to determine which is which:"
   ]
  },
  {
   "cell_type": "code",
   "execution_count": null,
   "metadata": {
    "collapsed": false
   },
   "outputs": [],
   "source": [
    "traffic_printer(200,50,25)   # Calling a function using Positional parameters"
   ]
  },
  {
   "cell_type": "markdown",
   "metadata": {},
   "source": [
    "Alternatively, we can specifiy named paramters like so:"
   ]
  },
  {
   "cell_type": "code",
   "execution_count": null,
   "metadata": {
    "collapsed": false
   },
   "outputs": [],
   "source": [
    "traffic_printer(bikes=200,buses=50,cars=25) # Calling a function using Named parameters"
   ]
  },
  {
   "cell_type": "markdown",
   "metadata": {},
   "source": [
    "However our function's output is a little more than a series of numbers. We can change that by using string tokens to embed  the output values within some text like so:"
   ]
  },
  {
   "cell_type": "code",
   "execution_count": null,
   "metadata": {
    "collapsed": false
   },
   "outputs": [],
   "source": [
    "def traffic_printer(cars,bikes,buses):\n",
    "    print(\"There were %s cars counted\" % (cars))\n",
    "    print(\"There were %s bikes counted\" % (bikes))\n",
    "    print(\"There were %s buses counted\" % (buses))\n",
    "\n",
    "traffic_printer(200,50,25)"
   ]
  },
  {
   "cell_type": "markdown",
   "metadata": {},
   "source": [
    "We could go even further and use multiple string tokens..."
   ]
  },
  {
   "cell_type": "code",
   "execution_count": null,
   "metadata": {
    "collapsed": false
   },
   "outputs": [],
   "source": [
    "def traffic_printer(cars,bikes,buses,day):\n",
    "    print(\"There were %s cars counted on %s\"  % (cars,day))\n",
    "    print(\"There were %s bikes counted on %s\" % (bikes,day))\n",
    "    print(\"There were %s buses counted on %s\" % (buses,day))\n",
    "\n",
    "traffic_printer(200,50,25,\"Monday\")\n",
    "traffic_printer(150,10,30,\"Tuesday\")"
   ]
  },
  {
   "cell_type": "markdown",
   "metadata": {},
   "source": [
    "However when we call the help() function on our function, we don't get anything meaningful back:"
   ]
  },
  {
   "cell_type": "code",
   "execution_count": null,
   "metadata": {
    "collapsed": false
   },
   "outputs": [],
   "source": [
    "help(traffic_printer)"
   ]
  },
  {
   "cell_type": "markdown",
   "metadata": {},
   "source": [
    "This is because we haven't defined a 'docstring'. This is easily done via a multiline comment in the function liks so:"
   ]
  },
  {
   "cell_type": "code",
   "execution_count": null,
   "metadata": {
    "collapsed": true
   },
   "outputs": [],
   "source": [
    "def traffic_printer(cars,bikes,buses,day):\n",
    "    ''' Prints the number of cars, bikes and buses counted on the specified day '''\n",
    "    print(\"There were %s cars counted on %s\"  % (cars,day))\n",
    "    print(\"There were %s bikes counted on %s\" % (bikes,day))\n",
    "    print(\"There were %s buses counted on %s\" % (buses,day))"
   ]
  },
  {
   "cell_type": "code",
   "execution_count": null,
   "metadata": {
    "collapsed": false
   },
   "outputs": [],
   "source": [
    "help(traffic_printer)"
   ]
  },
  {
   "cell_type": "markdown",
   "metadata": {},
   "source": [
    "## All about if, elif, else and return"
   ]
  },
  {
   "cell_type": "markdown",
   "metadata": {},
   "source": [
    "We can also use logic in functions with the if and elif statements. Also, the return statement can be used to make the function return a value.\n",
    "\n",
    "Note that return differs from print in that:\n",
    "\n",
    "* print is for the benefit of the user; You're telling Python to output something for you to see.\n",
    "* return is how a function gives back a value which can be further used in your code\n",
    "\n",
    "A good example of this is below:"
   ]
  },
  {
   "cell_type": "code",
   "execution_count": null,
   "metadata": {
    "collapsed": true
   },
   "outputs": [],
   "source": [
    "cars_vol = 100\n",
    "bikes_vol = 50\n",
    "buses_vol = 25\n",
    "\n",
    "def traffic_returner(vehicle):\n",
    "    ''' Prints the number of cars, bikes and buses counted on the specified day '''\n",
    "    if vehicle == 'cars':\n",
    "        return cars_vol\n",
    "    elif vehicle == 'bikes':\n",
    "        return bikes_vol\n",
    "    elif vehicle == 'buses':\n",
    "        return buses_vol\n",
    "    else:\n",
    "        return 'error'"
   ]
  },
  {
   "cell_type": "markdown",
   "metadata": {},
   "source": [
    "We can test the function as follows:"
   ]
  },
  {
   "cell_type": "code",
   "execution_count": null,
   "metadata": {
    "collapsed": false
   },
   "outputs": [],
   "source": [
    "print(traffic_returner('cars'),\n",
    "      traffic_returner('bikes'),\n",
    "      traffic_returner('buses'),)"
   ]
  },
  {
   "cell_type": "markdown",
   "metadata": {},
   "source": [
    "It will also return an error in the event that our input parameter is incorrect:"
   ]
  },
  {
   "cell_type": "code",
   "execution_count": null,
   "metadata": {
    "collapsed": false
   },
   "outputs": [],
   "source": [
    "traffic_returner('boats')"
   ]
  },
  {
   "cell_type": "markdown",
   "metadata": {},
   "source": [
    "The return function allows us to use the output values in further processing:"
   ]
  },
  {
   "cell_type": "code",
   "execution_count": null,
   "metadata": {
    "collapsed": false
   },
   "outputs": [],
   "source": [
    "\n",
    "traffic_returner('cars') + traffic_returner('bikes')"
   ]
  },
  {
   "cell_type": "markdown",
   "metadata": {},
   "source": [
    "However this can have unexpected results!!"
   ]
  },
  {
   "cell_type": "code",
   "execution_count": null,
   "metadata": {
    "collapsed": false
   },
   "outputs": [],
   "source": [
    "traffic_returner('casr') + traffic_returner('bikse')"
   ]
  },
  {
   "cell_type": "markdown",
   "metadata": {},
   "source": [
    "## The LEGB Rule"
   ]
  },
  {
   "cell_type": "markdown",
   "metadata": {},
   "source": [
    "What happens when we try and call an input parameter for a function outside of that function?"
   ]
  },
  {
   "cell_type": "code",
   "execution_count": null,
   "metadata": {
    "collapsed": false
   },
   "outputs": [],
   "source": [
    "def traffic_printer_v3(cars,bikes,buses,day):\n",
    "    ''' Prints the number of cars, bikes and buses counted on the specified day '''\n",
    "    print(\"There were %s cars counted on %s\"  % (cars,day))\n",
    "    print(\"There were %s bikes counted on %s\" % (bikes,day))\n",
    "    print(\"There were %s buses counted on %s\" % (buses,day))\n",
    "\n",
    "traffic_printer_v3(200,50,25,\"Monday\")\n",
    "\n",
    "print(cars)"
   ]
  },
  {
   "cell_type": "markdown",
   "metadata": {},
   "source": [
    "The print fails because the cars variable has been locally defined within the traffic_printer_v3 function. But what happens if we define a global variable also called cars?"
   ]
  },
  {
   "cell_type": "code",
   "execution_count": null,
   "metadata": {
    "collapsed": false
   },
   "outputs": [],
   "source": [
    "cars = 300\n",
    "traffic_printer_v3(200,50,25,\"Monday\")\n",
    "\n",
    "print(\"The global value for cars is %s\" % cars)"
   ]
  },
  {
   "cell_type": "markdown",
   "metadata": {},
   "source": [
    "Python prioritises the local variable over the global variable within the function. This is called the LEGB rule but is also sometimes called scope in other languages and relates largely to what priority Python gives variables based upon where they're assigned:\n",
    "\n",
    "* L, Local — Names assigned in any way within a function (def or lambda)), and not declared global in that function.\n",
    "\n",
    "* E, Enclosing function locals — Name in the local scope of any and all enclosing functions (def or lambda), from inner to outer.\n",
    "\n",
    "* G, Global (module) — Names assigned at the top-level of a module file, or declared global in a def within the file.\n",
    "\n",
    "* B, Built-in (Python) — Names preassigned in the built-in names module."
   ]
  },
  {
   "cell_type": "markdown",
   "metadata": {
    "collapsed": true
   },
   "source": [
    "## Further Reading"
   ]
  },
  {
   "cell_type": "markdown",
   "metadata": {},
   "source": [
    "<a href = \"http://stackoverflow.com/questions/291978/short-description-of-python-scoping-rules\">Python Scoping Rules</a><br/>\n",
    "<a href = \"https://blog.mozilla.org/webdev/2011/01/31/python-scoping-understanding-legb/\">Understanding LEGB</a><br/>"
   ]
  },
  {
   "cell_type": "code",
   "execution_count": null,
   "metadata": {
    "collapsed": true
   },
   "outputs": [],
   "source": []
  }
 ],
 "metadata": {
  "kernelspec": {
   "display_name": "Python 3",
   "language": "python",
   "name": "python3"
  },
  "language_info": {
   "codemirror_mode": {
    "name": "ipython",
    "version": 3
   },
   "file_extension": ".py",
   "mimetype": "text/x-python",
   "name": "python",
   "nbconvert_exporter": "python",
   "pygments_lexer": "ipython3",
   "version": "3.5.1"
  }
 },
 "nbformat": 4,
 "nbformat_minor": 0
}
