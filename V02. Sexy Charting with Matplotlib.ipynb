{
 "cells": [
  {
   "cell_type": "markdown",
   "metadata": {},
   "source": [
    "# V02: Sexy Charting with Matplotlib"
   ]
  },
  {
   "cell_type": "markdown",
   "metadata": {},
   "source": [
    "Whilst charting with matplotlib through pandas is easy, our charts look a little bit ordinary and it would be good to enhance them a bit so they conform to good data vis practice, but also impress people! \n",
    "\n",
    "We'll start by importing the libraries that we'll need..."
   ]
  },
  {
   "cell_type": "code",
   "execution_count": null,
   "metadata": {
    "collapsed": true
   },
   "outputs": [],
   "source": [
    "import pandas as pd\n",
    "import numpy as np\n",
    "import matplotlib.pyplot as plt # Standard Convention for matplotlib\n",
    "%matplotlib inline  "
   ]
  },
  {
   "cell_type": "markdown",
   "metadata": {},
   "source": [
    "Then create a dataframe with some data..."
   ]
  },
  {
   "cell_type": "code",
   "execution_count": null,
   "metadata": {
    "collapsed": false
   },
   "outputs": [],
   "source": [
    "categories = ['Category 1','Category 2','Category 3','Category 4','Category 5']\n",
    "data = [2212, 1900, 3902, 4932, 3089]\n",
    "df = pd.DataFrame(categories,data).reset_index().rename(columns={'index':'Data',0:'Category'})"
   ]
  },
  {
   "cell_type": "markdown",
   "metadata": {},
   "source": [
    "And then create a basic bar chart:"
   ]
  },
  {
   "cell_type": "code",
   "execution_count": null,
   "metadata": {
    "collapsed": false
   },
   "outputs": [],
   "source": [
    "chart = df.plot(kind='bar',x='Category',y='Data',figsize=(10, 6)) # Using x & y to create the bar chart"
   ]
  },
  {
   "cell_type": "markdown",
   "metadata": {
    "collapsed": true
   },
   "source": [
    "We now need to think of ways in which we can enhance our bar chart. We'll start by seeing what we can do with the df.plot() method."
   ]
  },
  {
   "cell_type": "code",
   "execution_count": null,
   "metadata": {
    "collapsed": false
   },
   "outputs": [],
   "source": [
    "chart = df.plot(kind='bar',x='Category',y='Data',figsize=(10, 6),legend=False,   # Using x & y to create the bar chart + removing the legend\n",
    "                color='#5169A7',alpha = 1, edgecolor='white',width=0.95,         # Setting the appearance of the bars\n",
    "                rot=0)                                                           # Setting the rotation of the labels                "
   ]
  },
  {
   "cell_type": "markdown",
   "metadata": {},
   "source": [
    "Next, we'll add a title and sort out the axis labels..."
   ]
  },
  {
   "cell_type": "code",
   "execution_count": null,
   "metadata": {
    "collapsed": false
   },
   "outputs": [],
   "source": [
    "''' The basic chart '''\n",
    "\n",
    "chart = df.plot(kind='bar',x='Category',y='Data',figsize=(10, 6),legend=False,   # Using x & y to create the bar chart + removing the legend\n",
    "                color='#5169A7',alpha = 1, edgecolor='white',width=0.95,         # Setting the appearance of the bars\n",
    "                rot=0)                                                           # Setting the rotation of the labels   \n",
    "plt.title('Categorical Analysis: Apr 16',fontsize=14, color='#6E6D6C')           # Setting the title characteristics\n",
    "plt.xlabel('')                                                                   # Removing the x axis label\n",
    "plt.ylabel('£',fontsize=12, color='#6E6D6C',rotation=360)                        # Setting the y axis label"
   ]
  },
  {
   "cell_type": "markdown",
   "metadata": {},
   "source": [
    "Remove the borders..."
   ]
  },
  {
   "cell_type": "code",
   "execution_count": null,
   "metadata": {
    "collapsed": false
   },
   "outputs": [],
   "source": [
    "''' The basic chart '''\n",
    "\n",
    "chart = df.plot(kind='bar',x='Category',y='Data',figsize=(10, 6),legend=False,   # Using x & y to create the bar chart + removing the legend\n",
    "                color='#5169A7',alpha = 1, edgecolor='white',width=0.95,         # Setting the appearance of the bars\n",
    "                rot=0)                                                           # Setting the rotation of the labels   \n",
    "plt.title('Categorical Analysis: Apr 16',fontsize=14, color='#6E6D6C')           # Setting the title characteristics\n",
    "plt.xlabel('')                                                                   # Removing the x axis label\n",
    "plt.ylabel('£',fontsize=12, color='#6E6D6C',rotation=360)                        # Setting the y axis label\n",
    "\n",
    "''' Removing the Borders'''\n",
    "\n",
    "chart.spines[\"top\"].set_visible(False)    \n",
    "chart.spines[\"bottom\"].set_visible(False)    \n",
    "chart.spines[\"right\"].set_visible(False)    \n",
    "chart.spines[\"left\"].set_visible(False) "
   ]
  },
  {
   "cell_type": "markdown",
   "metadata": {},
   "source": [
    "And the ticks..."
   ]
  },
  {
   "cell_type": "code",
   "execution_count": null,
   "metadata": {
    "collapsed": false
   },
   "outputs": [],
   "source": [
    "''' The basic chart '''\n",
    "\n",
    "chart = df.plot(kind='bar',x='Category',y='Data',figsize=(10, 6),legend=False,   # Using x & y to create the bar chart + removing the legend\n",
    "                color='#5169A7',alpha = 1, edgecolor='white',width=0.95,         # Setting the appearance of the bars\n",
    "                rot=0)                                                           # Setting the rotation of the labels   \n",
    "plt.title('Categorical Analysis: Apr 16',fontsize=14, color='#6E6D6C')           # Setting the title characteristics\n",
    "plt.xlabel('')                                                                   # Removing the x axis label\n",
    "plt.ylabel('£',fontsize=12, color='#6E6D6C',rotation=360)                        # Setting the y axis label\n",
    "\n",
    "''' Removing the Spines'''\n",
    "\n",
    "chart.spines[\"top\"].set_visible(False)    \n",
    "chart.spines[\"bottom\"].set_visible(False)    \n",
    "chart.spines[\"right\"].set_visible(False)    \n",
    "chart.spines[\"left\"].set_visible(False) \n",
    "\n",
    "''' Removing the ticks '''\n",
    "\n",
    "chart.tick_params(\n",
    "    which='both',      # both major and minor ticks are affected\n",
    "    bottom='off',      # ticks along the bottom edge are off\n",
    "    top='off',         # ticks along the top edge are off\n",
    "    left='off',        # ticks along the left edge are off\n",
    "    right = 'off')     # ticks along the right edge are off "
   ]
  },
  {
   "cell_type": "markdown",
   "metadata": {},
   "source": [
    "Before adding some gridlines and formatting the x axis labels..."
   ]
  },
  {
   "cell_type": "code",
   "execution_count": null,
   "metadata": {
    "collapsed": false
   },
   "outputs": [],
   "source": [
    "''' The basic chart '''\n",
    "\n",
    "chart = df.plot(kind='bar',x='Category',y='Data',figsize=(10, 6),legend=False,   # Using x & y to create the bar chart + removing the legend\n",
    "                color='#5169A7',alpha = 1, edgecolor='white',width=0.95,         # Setting the appearance of the bars\n",
    "                rot=0)                                                           # Setting the rotation of the labels   \n",
    "plt.title('Categorical Analysis: Apr 16',fontsize=14, color='#6E6D6C')           # Setting the title characteristics\n",
    "plt.xlabel('')                                                                   # Removing the x axis label\n",
    "plt.ylabel('£',fontsize=12, color='#6E6D6C',rotation=360)                        # Setting the y axis label\n",
    "\n",
    "''' Removing the Borders'''\n",
    "\n",
    "chart.spines[\"top\"].set_visible(False)    \n",
    "chart.spines[\"bottom\"].set_visible(False)    \n",
    "chart.spines[\"right\"].set_visible(False)    \n",
    "chart.spines[\"left\"].set_visible(False) \n",
    "\n",
    "''' Removing the ticks '''\n",
    "\n",
    "chart.tick_params(\n",
    "    which='both',      # both major and minor ticks are affected\n",
    "    bottom='off',      # ticks along the bottom edge are off\n",
    "    top='off',         # ticks along the top edge are off\n",
    "    left='off',        # ticks along the left edge are off\n",
    "    right = 'off')     # ticks along the right edge are off \n",
    "\n",
    "''' Adding some gridlines '''\n",
    "\n",
    "chart.yaxis.grid(True,color='grey',linestyle='-',alpha=0.4)\n",
    "\n",
    "''' Formatting the x axis labels '''\n",
    "\n",
    "chart.tick_params(axis='both', colors='#6E6D6C')"
   ]
  },
  {
   "cell_type": "markdown",
   "metadata": {},
   "source": [
    "Lastly, we can save the chart as an image..."
   ]
  },
  {
   "cell_type": "code",
   "execution_count": null,
   "metadata": {
    "collapsed": false
   },
   "outputs": [],
   "source": [
    "''' The basic chart '''\n",
    "\n",
    "chart = df.plot(kind='bar',x='Category',y='Data',figsize=(10, 6),legend=False,   # Using x & y to create the bar chart + removing the legend\n",
    "                color='#5169A7',alpha = 1, edgecolor='white',width=0.95,         # Setting the appearance of the bars\n",
    "                rot=0)                                                           # Setting the rotation of the labels   \n",
    "plt.title('Categorical Analysis: Apr 16',fontsize=14, color='#6E6D6C')           # Setting the title characteristics\n",
    "plt.xlabel('')                                                                   # Removing the x axis label\n",
    "plt.ylabel('£',fontsize=12, color='#6E6D6C',rotation=360)                        # Setting the y axis label\n",
    "\n",
    "''' Removing the Borders'''\n",
    "\n",
    "chart.spines[\"top\"].set_visible(False)    \n",
    "chart.spines[\"bottom\"].set_visible(False)    \n",
    "chart.spines[\"right\"].set_visible(False)    \n",
    "chart.spines[\"left\"].set_visible(False) \n",
    "\n",
    "''' Removing the ticks '''\n",
    "\n",
    "chart.tick_params(\n",
    "    which='both',      # both major and minor ticks are affected\n",
    "    bottom='off',      # ticks along the bottom edge are off\n",
    "    top='off',         # ticks along the top edge are off\n",
    "    left='off',        # ticks along the left edge are off\n",
    "    right = 'off')     # ticks along the right edge are off \n",
    "\n",
    "''' Adding some gridlines '''\n",
    "\n",
    "chart.yaxis.grid(True,color='grey',linestyle='-',alpha=0.4)\n",
    "\n",
    "''' Formatting the x axis labels '''\n",
    "\n",
    "chart.tick_params(axis='both', colors='#6E6D6C')\n",
    "\n",
    "''' Saving our chart as a .png file '''\n",
    "\n",
    "plt.savefig('Chart.png', bbox_inches='tight')"
   ]
  },
  {
   "cell_type": "markdown",
   "metadata": {},
   "source": [
    "This has been a very brief introduction to Matplotlib. One important thing to bear in mind is that we've almost exlusively used it through Pandas' df.plot() method, because of it's ease and simplicity. It's important to note that when using 'pure' matplotlib it can operate differently and this might mean that you have to do a little more digging when searching for answers on your own.\n",
    "\n",
    "Over the next lessons we'll look at some other charting libraries such as Seaborn and Bokeh."
   ]
  },
  {
   "cell_type": "markdown",
   "metadata": {},
   "source": [
    "## Further Reading"
   ]
  },
  {
   "cell_type": "markdown",
   "metadata": {},
   "source": [
    "<a href = \"http://matplotlib.org/users/beginner.html\">Matplotlib Beginner's guide</a><br/>\n",
    "<a href = \"http://matplotlib.org/users/index.html\">Matplotlib User Guide</a><br/>\n",
    "<a href = \"http://jakevdp.github.io/mpl_tutorial/tutorial_pages/tut2.html\">Matplotlib Tutorial</a><br/>\n",
    "<a href = \"http://pandas.pydata.org/pandas-docs/stable/visualization.html\">Pandas df.plot()</a><br/>\n",
    "<a href = \"http://www.randalolson.com/2014/06/28/how-to-make-beautiful-data-visualizations-in-python-with-matplotlib/\">How to make beautiful data visualizations in Python with matplotlib</a><br/>\n",
    "<a href = \"https://datasciencelab.wordpress.com/2013/12/21/beautiful-plots-with-pandas-and-matplotlib//\">Beautiful Plots With Pandas and Matplotlib</a><br/>\n",
    "<a href = \"http://nbviewer.jupyter.org/urls/gist.github.com/fonnesbeck/5850463/raw/a29d9ffb863bfab09ff6c1fc853e1d5bf69fe3e4/3.+Plotting+and+Visualization.ipynb\">Notebook of some excellent matplotlib charts</a><br/>\n",
    "\n",
    "\n",
    "\n"
   ]
  }
 ],
 "metadata": {
  "kernelspec": {
   "display_name": "Python 3",
   "language": "python",
   "name": "python3"
  },
  "language_info": {
   "codemirror_mode": {
    "name": "ipython",
    "version": 3
   },
   "file_extension": ".py",
   "mimetype": "text/x-python",
   "name": "python",
   "nbconvert_exporter": "python",
   "pygments_lexer": "ipython3",
   "version": "3.5.1"
  }
 },
 "nbformat": 4,
 "nbformat_minor": 0
}
