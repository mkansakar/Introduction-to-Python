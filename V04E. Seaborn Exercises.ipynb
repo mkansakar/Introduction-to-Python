{
 "cells": [
  {
   "cell_type": "markdown",
   "metadata": {},
   "source": [
    "# V04E. Seaborn Exercises"
   ]
  },
  {
   "cell_type": "markdown",
   "metadata": {},
   "source": [
    "#### Exercise 1: Using the dataframe below:\n",
    "\n",
    "1) Create a jointplot to show the distribution of the data.<br/>\n",
    "2) Change the size of the plot to make it larger.<br/>\n",
    "3) Add a title to the plot (NB You'll have to adjust the plot down).<br/>"
   ]
  },
  {
   "cell_type": "code",
   "execution_count": null,
   "metadata": {
    "collapsed": true
   },
   "outputs": [],
   "source": [
    "import pandas as pd\n",
    "import numpy as np\n",
    "from numpy.random import randn\n",
    "import matplotlib.pyplot as plt \n",
    "import seaborn as sns\n",
    "%matplotlib inline"
   ]
  },
  {
   "cell_type": "code",
   "execution_count": null,
   "metadata": {
    "collapsed": false
   },
   "outputs": [],
   "source": [
    "df1a = pd.DataFrame({'data1':np.arange(0,400),\n",
    "                     'data2':np.random.randint(0,500,400)})\n",
    "df1b = pd.DataFrame({'data1':np.arange(400,1000),\n",
    "                     'data2':np.random.randint(0,1000,600)})\n",
    "df1 = pd.concat([df1a,df1b])                \n",
    "df1.head(5)"
   ]
  },
  {
   "cell_type": "code",
   "execution_count": null,
   "metadata": {
    "collapsed": false
   },
   "outputs": [],
   "source": []
  },
  {
   "cell_type": "markdown",
   "metadata": {},
   "source": [
    "#### Exercise 2: Using the Numpy Array below:\n",
    "\n",
    "1) Plot a heatmap.<br/>\n",
    "2) Increase the size of the heatmap.<br/>\n",
    "3) Add values to the heatmap via annotation. <br/>\n",
    "4) Change the colours to a <a href = \"https://stanford.edu/~mwaskom/software/seaborn/tutorial/color_palettes.html\">nicer palette</a>.<br/>\n",
    "5) Set a title for the heatmap."
   ]
  },
  {
   "cell_type": "code",
   "execution_count": null,
   "metadata": {
    "collapsed": false
   },
   "outputs": [],
   "source": [
    "data = np.random.rand(10,12)\n",
    "data"
   ]
  },
  {
   "cell_type": "code",
   "execution_count": null,
   "metadata": {
    "collapsed": false
   },
   "outputs": [],
   "source": []
  },
  {
   "cell_type": "code",
   "execution_count": null,
   "metadata": {
    "collapsed": true
   },
   "outputs": [],
   "source": []
  }
 ],
 "metadata": {
  "kernelspec": {
   "display_name": "Python 3",
   "language": "python",
   "name": "python3"
  },
  "language_info": {
   "codemirror_mode": {
    "name": "ipython",
    "version": 3
   },
   "file_extension": ".py",
   "mimetype": "text/x-python",
   "name": "python",
   "nbconvert_exporter": "python",
   "pygments_lexer": "ipython3",
   "version": "3.5.1"
  }
 },
 "nbformat": 4,
 "nbformat_minor": 0
}
