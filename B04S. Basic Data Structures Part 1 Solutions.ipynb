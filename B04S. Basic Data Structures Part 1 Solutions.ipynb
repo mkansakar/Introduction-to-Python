{
 "cells": [
  {
   "cell_type": "markdown",
   "metadata": {},
   "source": [
    "# B04S: Basic Data Structures Part 1 Solutions\n"
   ]
  },
  {
   "cell_type": "markdown",
   "metadata": {},
   "source": [
    "#### Exercise 1: Create a function that returns the first and last items of a list and prints this to the user. Use the function to evaluate lists a, b and c as follows:"
   ]
  },
  {
   "cell_type": "code",
   "execution_count": null,
   "metadata": {
    "collapsed": true
   },
   "outputs": [],
   "source": [
    "a = [1,2,3,4,5,6,7,8,9]\n",
    "b = ['alpha', 'beta', 'charlie', 'delta', 'echo']\n",
    "c = [1.1,1.2,1.3,1.4,1.5,1.6,1.7]"
   ]
  },
  {
   "cell_type": "code",
   "execution_count": null,
   "metadata": {
    "collapsed": false
   },
   "outputs": [],
   "source": [
    "def fl(var):\n",
    "    '''Prints the first and last items in a list'''\n",
    "    print(\"The first item is:\",var[0])\n",
    "    print(\"The last item is:\",var[-1])\n",
    "    \n",
    "fl(a)\n",
    "fl(b)\n",
    "fl(c)"
   ]
  },
  {
   "cell_type": "markdown",
   "metadata": {},
   "source": [
    "#### Exercise 2: Modify your function so that it works on variable d below:"
   ]
  },
  {
   "cell_type": "code",
   "execution_count": null,
   "metadata": {
    "collapsed": false
   },
   "outputs": [],
   "source": [
    "d = [a,b,c]"
   ]
  },
  {
   "cell_type": "code",
   "execution_count": null,
   "metadata": {
    "collapsed": false
   },
   "outputs": [],
   "source": [
    "def fl2(var):\n",
    "    '''Prints the first last and middle items in a list'''\n",
    "    print(\"The first item is:\",var[0][0])\n",
    "    print(\"The last item is:\",var[0][-1])\n",
    "    print(\"The first item is:\",var[1][0])\n",
    "    print(\"The last item is:\",var[1][-1])\n",
    "    print(\"The first item is:\",var[2][0])\n",
    "    print(\"The last item is:\",var[2][-1])\n",
    "    \n",
    "fl2(d)\n",
    "print(d)"
   ]
  },
  {
   "cell_type": "markdown",
   "metadata": {},
   "source": [
    "#### Exercise 3: Create 3 new variables using slicing as follows:\n",
    "\n",
    "f = Every 5th character of e, starting at the beginning of the string<br/>\n",
    "g = Every 2nd character of e starting at the end of the string<br/>\n",
    "h = Every 6th character of e starting at the middle of the string<br/>\n",
    "\n",
    "<i>Hint! You'll need to use a function for h!</i>"
   ]
  },
  {
   "cell_type": "code",
   "execution_count": null,
   "metadata": {
    "collapsed": true
   },
   "outputs": [],
   "source": [
    "e = \"Lorem Ipsum is simply dummy text of the printing and typesetting industry. It has been the industry's standard dummy text ever since the 1500s, when an unknown printer took a galley of type and scrambled it to make a type specimen book. It has survived not only five centuries, but also the leap into electronic typesetting, remaining essentially unchanged. It was popularised in the 1960s with the release of Letraset sheets containing Lorem Ipsum passages, and more recently with desktop publishing software like PageMaker including versions of Lorem Ipsum\""
   ]
  },
  {
   "cell_type": "code",
   "execution_count": null,
   "metadata": {
    "collapsed": false
   },
   "outputs": [],
   "source": [
    "f = e[0::5]\n",
    "f"
   ]
  },
  {
   "cell_type": "code",
   "execution_count": null,
   "metadata": {
    "collapsed": false
   },
   "outputs": [],
   "source": [
    "g = e[-1::-2]\n",
    "g"
   ]
  },
  {
   "cell_type": "code",
   "execution_count": null,
   "metadata": {
    "collapsed": false
   },
   "outputs": [],
   "source": [
    "h = e[(int(len(e)/2))::6]\n",
    "h"
   ]
  },
  {
   "cell_type": "markdown",
   "metadata": {},
   "source": [
    "#### Exercise 4: Find a way to create a list containing all the words in e as separate items and assign this list to variable i.\n",
    "\n",
    "<i>Hint! It's OK to use Google!</i>"
   ]
  },
  {
   "cell_type": "code",
   "execution_count": null,
   "metadata": {
    "collapsed": true
   },
   "outputs": [],
   "source": [
    "i = e.split()"
   ]
  },
  {
   "cell_type": "code",
   "execution_count": null,
   "metadata": {
    "collapsed": false
   },
   "outputs": [],
   "source": [
    "f=e.split()"
   ]
  },
  {
   "cell_type": "code",
   "execution_count": null,
   "metadata": {
    "collapsed": false
   },
   "outputs": [],
   "source": [
    "f[0:6:2]"
   ]
  }
 ],
 "metadata": {
  "kernelspec": {
   "display_name": "Python 3",
   "language": "python",
   "name": "python3"
  },
  "language_info": {
   "codemirror_mode": {
    "name": "ipython",
    "version": 3
   },
   "file_extension": ".py",
   "mimetype": "text/x-python",
   "name": "python",
   "nbconvert_exporter": "python",
   "pygments_lexer": "ipython3",
   "version": "3.5.1"
  }
 },
 "nbformat": 4,
 "nbformat_minor": 0
}
