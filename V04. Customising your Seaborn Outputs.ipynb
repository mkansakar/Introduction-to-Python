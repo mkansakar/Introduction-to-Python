{
 "cells": [
  {
   "cell_type": "markdown",
   "metadata": {},
   "source": [
    "## V04. Customising your Seaborn Outputs"
   ]
  },
  {
   "cell_type": "markdown",
   "metadata": {},
   "source": [
    "In this chapter we're going to take a quick look at ways in which we can customise our Seaborn outputs, similar to how we did for Matplotlib. As always we'll need to import our libraries first..."
   ]
  },
  {
   "cell_type": "code",
   "execution_count": null,
   "metadata": {
    "collapsed": false
   },
   "outputs": [],
   "source": [
    "import pandas as pd\n",
    "import numpy as np\n",
    "from numpy.random import randn\n",
    "import matplotlib.pyplot as plt \n",
    "import seaborn as sns # Standard convention for Seaborn\n",
    "%matplotlib inline"
   ]
  },
  {
   "cell_type": "markdown",
   "metadata": {},
   "source": [
    "And make some random data to visualise..."
   ]
  },
  {
   "cell_type": "code",
   "execution_count": null,
   "metadata": {
    "collapsed": true
   },
   "outputs": [],
   "source": [
    "data1 = (randn(1000))\n",
    "data2 = (randn(1000)+2)"
   ]
  },
  {
   "cell_type": "markdown",
   "metadata": {
    "collapsed": true
   },
   "source": [
    "We'll use the hexy jointplot we created in the last lesson"
   ]
  },
  {
   "cell_type": "code",
   "execution_count": null,
   "metadata": {
    "collapsed": false
   },
   "outputs": [],
   "source": [
    "chart  = sns.jointplot(data1,data2,kind='hex')"
   ]
  },
  {
   "cell_type": "markdown",
   "metadata": {},
   "source": [
    "## Custom Jointplot"
   ]
  },
  {
   "cell_type": "markdown",
   "metadata": {},
   "source": [
    "We can set some options when we create the chart itself via keyword arguments (kwargs!). The <a href = \"https://stanford.edu/~mwaskom/software/seaborn/api.html\">Seaborn API reference</a> is excellent and very easy to use and contains exhaustive kwargs for each of the charts."
   ]
  },
  {
   "cell_type": "code",
   "execution_count": null,
   "metadata": {
    "collapsed": false
   },
   "outputs": [],
   "source": [
    "chart = sns.jointplot(data1,data2,kind='hex',   # Assigning our chart to a variable so we can store it\n",
    "                     stat_func=None,            # Getting rid of the annotation\n",
    "                     size = 8,)                 # Setting the size of the plot"
   ]
  },
  {
   "cell_type": "markdown",
   "metadata": {},
   "source": [
    "## Seaborn.set()"
   ]
  },
  {
   "cell_type": "markdown",
   "metadata": {},
   "source": [
    "The Seaborn.set() method can be used to set some global options for your charts. These options will remain set for as long as you keep your Jupyter notebook session open and can be used to set things like font sizes, styles, palettes etc. as follows:"
   ]
  },
  {
   "cell_type": "code",
   "execution_count": null,
   "metadata": {
    "collapsed": false
   },
   "outputs": [],
   "source": [
    "sns.set(style='white',                          # Sets the background style of the plot\n",
    "        palette='colorblind',       # Sets the palette to be used (See below)\n",
    "        font='calibri',                         # Sets the font to be used\n",
    "        font_scale=1.5)                         # Sets the scale of the font\n",
    "\n",
    "chart = sns.jointplot(data1,data2,kind='hex',   # Assigning our chart to a variable so we can store it\n",
    "                     stat_func=None,            # Getting rid of the annotation\n",
    "                     size = 8)                  # Setting the size of the plot"
   ]
  },
  {
   "cell_type": "markdown",
   "metadata": {},
   "source": [
    "Most of the seaborn built in palettes are blue, which is great if you like blue, but less so if you don't! That said, the colors have been specifically chosen to help bring out patterns in the data. You can check out the built in palettes for Seaborn <a href = \"https://stanford.edu/~mwaskom/software/seaborn/tutorial/color_palettes.html\">here</a>. Bearing in mind that Seaborn is built on top of Matplotlib, it's also worth checking out the Matplotlib pallates <a href = \"http://matplotlib.org/examples/color/colormaps_reference.html\">here</a>."
   ]
  },
  {
   "cell_type": "markdown",
   "metadata": {},
   "source": [
    "## Further options"
   ]
  },
  {
   "cell_type": "markdown",
   "metadata": {},
   "source": [
    "It's important to remember that in Python generally there are many ways to accomplish a given task. This is especially true for Seaborn and Matplotlib as both libraries have a lot of options for customisation, some of which overlap with each other. Remember that this training is an introduction, rather than an exhaustive reference and feel free to explore more of Matplotlib and Seaborn outside of this course!\n"
   ]
  },
  {
   "cell_type": "code",
   "execution_count": null,
   "metadata": {
    "collapsed": false
   },
   "outputs": [],
   "source": [
    "chart = sns.jointplot(data1,data2,kind='hex',   # Assigning our chart to a variable so we can store it\n",
    "                     stat_func=None,            # Getting rid of the annotation\n",
    "                     size = 8)                  # Setting the size of the plot\n",
    "chart.fig.suptitle('My Hexy Jointplot!',        # The plot title \n",
    "                   fontsize=24,                 # The fontsize of the title\n",
    "                   fontweight='bold',           # The fontweight of the title\n",
    "                   color='#30476E',             # Setting the color title with a hex code\n",
    "                   family = 'calibri')          # The font family of the title\n",
    "plt.subplots_adjust(top=0.93)                   # Shifting the plot down a little bit to make room for the title\n",
    "plt.show()                                      # Showing the plot!"
   ]
  },
  {
   "cell_type": "markdown",
   "metadata": {
    "collapsed": false
   },
   "source": [
    "Note that not all options are applicable to all chart types due to the different structures by which they are created.One size does not fit all!! Bear this in mind when customising your own charts!\n"
   ]
  },
  {
   "cell_type": "markdown",
   "metadata": {
    "collapsed": true
   },
   "source": [
    "## Custom Heatmap"
   ]
  },
  {
   "cell_type": "markdown",
   "metadata": {
    "collapsed": true
   },
   "source": [
    "To further illustrate this, we'll now look at customising the heatmap we created in the previous chapter and whilst some of the methods we'll use will be familiar, others will not. \n",
    "\n",
    "First we'll restore the seaborn.set() defaults:"
   ]
  },
  {
   "cell_type": "code",
   "execution_count": null,
   "metadata": {
    "collapsed": false
   },
   "outputs": [],
   "source": [
    "sns.set(context='notebook', style='darkgrid', palette='deep', \n",
    "        font='sans-serif', font_scale=1, color_codes=False, rc=None)"
   ]
  },
  {
   "cell_type": "markdown",
   "metadata": {},
   "source": [
    "Then we'll re-use the code from the previous chapter to create our heatmap:"
   ]
  },
  {
   "cell_type": "code",
   "execution_count": null,
   "metadata": {
    "collapsed": false
   },
   "outputs": [],
   "source": [
    "flight_dframe = sns.load_dataset('flights')                      # Importing the dataset\n",
    "flight_dframe = flight_dframe.pivot(\"month\",\"year\",\"passengers\") # Pivoting the dataset\n",
    "chart2 = sns.heatmap(flight_dframe)                                       # Creating the heatmap"
   ]
  },
  {
   "cell_type": "markdown",
   "metadata": {},
   "source": [
    "Again, we'll use seaborn.set to set some global options."
   ]
  },
  {
   "cell_type": "code",
   "execution_count": null,
   "metadata": {
    "collapsed": true
   },
   "outputs": [],
   "source": [
    "sns.set(style='white',                          # Sets the background style of the plot\n",
    "        palette='colorblind',                   # Sets the palette to be used (See below)\n",
    "        font='calibri',                         # Sets the font to be used\n",
    "        font_scale=1.5)                         # Sets the scale of the font"
   ]
  },
  {
   "cell_type": "code",
   "execution_count": null,
   "metadata": {
    "collapsed": false
   },
   "outputs": [],
   "source": [
    "flight_dframe = sns.load_dataset('flights')                      # Importing the dataset\n",
    "flight_dframe = flight_dframe.pivot(\"month\",\"year\",\"passengers\") # Pivoting the dataset\n",
    "chart2 = sns.heatmap(flight_dframe,\n",
    "                     annot=True,                                 # Annotates the heatmap with values\n",
    "                     fmt='d',                                    # Sets the format of the string to be used for the annotation\n",
    "                     cmap=\"Blues\",                               # Defines the colour scheme for the heatmap\n",
    "                     linewidths=1,                               # Defines the width of the lines for each cell\n",
    "                     )\n",
    "chart2.set_title(\"Awesome Heatmap\",\n",
    "                 fontsize=24,                                    # The fontsize of the title\n",
    "                 fontweight='bold',                              # The fontweight of the title\n",
    "                 color='#30476E',                                # Setting the color title with a hex code\n",
    "                 family = 'calibri'                              # Setting the font family\n",
    "                )\n",
    "chart2.figure.set_size_inches(12,8)                              # Changing the size of the heatmap\n",
    "chart2.xaxis.set_label_text(\"Year\",\n",
    "                 fontsize=20,                                    # The fontsize of the X axis label\n",
    "                 fontweight='bold',                              # The fontweight of the X axis label\n",
    "                 color='#30476E',                                # Setting the color of the X axis label with a hex code\n",
    "                 family = 'calibri' \n",
    "                )\n",
    "chart2.yaxis.set_label_text(\"Month\",\n",
    "                 fontsize=20,                                    # The fontsize of the Y axis label\n",
    "                 fontweight='bold',                              # The fontweight of the Y axis label\n",
    "                 color='#30476E',                                # Setting the color of the Y axis label with a hex code\n",
    "                 family = 'calibri'\n",
    "                )\n",
    "plt.show()"
   ]
  },
  {
   "cell_type": "markdown",
   "metadata": {},
   "source": [
    "Much of the customisation that we've done is using Matplotlib - remember that Seaborn is built on top of Matplotlib and this gives us a lot of room for customisation for our charts. Also, to re-iterate, one size does not fit all with Seaborn charts and you should always customise them in a bespoke, case by case manner. Remember Stack Overflow and Google are your friends but you also have the inbuilt help() function in Python as well as the tab help in Jupyter to show you the available methods."
   ]
  },
  {
   "cell_type": "markdown",
   "metadata": {},
   "source": [
    "## Further Reading"
   ]
  },
  {
   "cell_type": "markdown",
   "metadata": {},
   "source": [
    "<a href = \"https://stanford.edu/~mwaskom/software/seaborn/api.html\">Seaborn API reference</a><br/>\n",
    "<a href = \"https://stanford.edu/~mwaskom/software/seaborn/tutorial/color_palettes.html\">Creating Colour Palettes</a><br/>\n",
    "<a href = \"http://matplotlib.org/examples/color/colormaps_reference.html\">Matplotlib palettes</a><br/>\n",
    "<a href = \"https://stanford.edu/~mwaskom/software/seaborn/tutorial/aesthetics.html\">Chart Aesthetics</a><br/>\n",
    "<a href = \"http://matplotlib.org/api/text_api.html#matplotlib.text.Text\">Matplotlib Text Reference</a> (Useful for titles, labels etc.)<br/>"
   ]
  }
 ],
 "metadata": {
  "kernelspec": {
   "display_name": "Python 3",
   "language": "python",
   "name": "python3"
  },
  "language_info": {
   "codemirror_mode": {
    "name": "ipython",
    "version": 3
   },
   "file_extension": ".py",
   "mimetype": "text/x-python",
   "name": "python",
   "nbconvert_exporter": "python",
   "pygments_lexer": "ipython3",
   "version": "3.5.1"
  }
 },
 "nbformat": 4,
 "nbformat_minor": 0
}
