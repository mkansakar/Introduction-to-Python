{
 "cells": [
  {
   "cell_type": "markdown",
   "metadata": {},
   "source": [
    "# V02S. Matplotlib Solutions"
   ]
  },
  {
   "cell_type": "markdown",
   "metadata": {},
   "source": [
    "#### Exercise 1. For the following dataframe:\n",
    "1) Plot a simple bar chart.<br/>\n",
    "2) Set the title and axis labels of the graph.<br/>\n",
    "3) In the plot method, remove the legend, change the colour, and increase the width of the bars.<br/>\n",
    "4) Remove the ticks (It's OK to C + P this!)<br/>\n",
    "5) Remove the top and right borders<br/>"
   ]
  },
  {
   "cell_type": "code",
   "execution_count": null,
   "metadata": {
    "collapsed": true
   },
   "outputs": [],
   "source": [
    "import pandas as pd\n",
    "import numpy as np\n",
    "import matplotlib.pyplot as plt\n",
    "%matplotlib inline"
   ]
  },
  {
   "cell_type": "code",
   "execution_count": null,
   "metadata": {
    "collapsed": false
   },
   "outputs": [],
   "source": [
    "df1 = pd.DataFrame({'date':['11-May-16','18-May-16','01-Jun-16','08-Jun-16','15-Jun-16'], # Importing some dates as a string\n",
    "                   'data':np.random.randint(0,1000,5)*100})\n",
    "df1 = df1.set_index('date')\n",
    "df1.index.name = None\n",
    "df1"
   ]
  },
  {
   "cell_type": "code",
   "execution_count": null,
   "metadata": {
    "collapsed": false
   },
   "outputs": [],
   "source": [
    "chart =  df1.plot(kind='bar',\n",
    "                 figsize=(10, 6),\n",
    "                 legend=False,\n",
    "                 color='#ff6b6b',\n",
    "                 width=0.9,\n",
    "                 rot=0)\n",
    "plt.title('My Chart')           \n",
    "plt.xlabel('Date')                                                                   \n",
    "plt.ylabel('Data',rotation=360)   \n",
    "\n",
    "''' Removing the Borders'''\n",
    "\n",
    "chart.spines[\"top\"].set_visible(False)    \n",
    "# chart.spines[\"bottom\"].set_visible(False)    \n",
    "chart.spines[\"right\"].set_visible(False)    \n",
    "# chart.spines[\"left\"].set_visible(False) \n",
    "\n",
    "''' Removing the ticks '''\n",
    "\n",
    "chart.tick_params(\n",
    "    which='both',      # both major and minor ticks are affected\n",
    "    bottom='off',      # ticks along the bottom edge are off\n",
    "    top='off',         # ticks along the top edge are off\n",
    "    left='off',        # ticks along the left edge are off\n",
    "    right = 'off')     # ticks along the right edge are off "
   ]
  },
  {
   "cell_type": "markdown",
   "metadata": {},
   "source": [
    "#### Exercise 2. For the following dataframe:\n",
    "1) Plot a basic scatter chart.<br/>\n",
    "2) Set the title and axis labels of the graph.<br/>\n",
    "3) See if you can find out how to set the scale to 0 - 1000 <br/>\n",
    "4) See if you can find out how to change the scatter marker to a square <br/>"
   ]
  },
  {
   "cell_type": "code",
   "execution_count": null,
   "metadata": {
    "collapsed": false
   },
   "outputs": [],
   "source": [
    "df2 = pd.DataFrame({'data1':np.random.randint(0,1000,1000),\n",
    "                   'data2':np.random.randint(0,1000,1000)})\n",
    "df2.head(10)"
   ]
  },
  {
   "cell_type": "code",
   "execution_count": null,
   "metadata": {
    "collapsed": false
   },
   "outputs": [],
   "source": [
    "chart2 = df2.plot(kind='scatter',\n",
    "                  x = 'data1', \n",
    "                  y= 'data2',\n",
    "                  figsize=(10, 6),\n",
    "                  legend=False,\n",
    "                  color='#ec3a34',\n",
    "                  marker='s',\n",
    "                  xlim=(0,1000),\n",
    "                  ylim=(0,1000))"
   ]
  },
  {
   "cell_type": "code",
   "execution_count": null,
   "metadata": {
    "collapsed": true
   },
   "outputs": [],
   "source": []
  }
 ],
 "metadata": {
  "kernelspec": {
   "display_name": "Python 3",
   "language": "python",
   "name": "python3"
  },
  "language_info": {
   "codemirror_mode": {
    "name": "ipython",
    "version": 3
   },
   "file_extension": ".py",
   "mimetype": "text/x-python",
   "name": "python",
   "nbconvert_exporter": "python",
   "pygments_lexer": "ipython3",
   "version": "3.5.1"
  }
 },
 "nbformat": 4,
 "nbformat_minor": 0
}
