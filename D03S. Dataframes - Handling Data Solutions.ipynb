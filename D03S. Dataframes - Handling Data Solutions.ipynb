{
 "cells": [
  {
   "cell_type": "markdown",
   "metadata": {},
   "source": [
    "# D03S: Dataframes - Handling Data Solutions"
   ]
  },
  {
   "cell_type": "markdown",
   "metadata": {},
   "source": [
    "#### Exercise 1: Import the file below and then:\n",
    "\n",
    "1) Remove the Unnamed:0 column<br/>\n",
    "2) Rename the wl1-3 colums to say 'Weight Loss Week...' instead of wl<br/>\n",
    "3) Rename the se1-3 columns to say 'Self Esteem Week...' instead of se<br/>\n",
    "4) Create a function that changes data in the group column from 'DietEx' to 'Diet & Exercise'<br/>\n",
    "5) Sort the dataframe by the wl1 column in descending order.\n"
   ]
  },
  {
   "cell_type": "code",
   "execution_count": null,
   "metadata": {
    "collapsed": true
   },
   "outputs": [],
   "source": [
    "path = \"https://vincentarelbundock.github.io/Rdatasets/csv/car/WeightLoss.csv\""
   ]
  },
  {
   "cell_type": "code",
   "execution_count": null,
   "metadata": {
    "collapsed": false
   },
   "outputs": [],
   "source": [
    "import pandas as pd\n",
    "\n",
    "df = pd.read_csv(path)\n",
    "\n",
    "df = df.drop(['Unnamed: 0'],axis=1)\n",
    "\n",
    "names = {'wl1':'Weight Loss Week 1',\n",
    "         'wl2':'Weight Loss Week 2',\n",
    "         'wl3':'Weight Loss Week 3',\n",
    "         'se1':'Self Esteem Week 1',\n",
    "         'se2':'Self Esteem Week 2',\n",
    "         'se3':'Self Esteem Week 3'}\n",
    "\n",
    "df = df.rename(columns=names)\n",
    "\n",
    "def transformer(row):\n",
    "    if row['group'] == 'DietEx':\n",
    "        return 'Diet & Exercise'\n",
    "    else:\n",
    "        return row['group']\n",
    "\n",
    "df['group'] = df.apply(transformer,axis=1)\n",
    "\n",
    "df = df.sort_values(by=['Weight Loss Week 1'], ascending=False)"
   ]
  },
  {
   "cell_type": "code",
   "execution_count": null,
   "metadata": {
    "collapsed": false
   },
   "outputs": [],
   "source": [
    "df"
   ]
  }
 ],
 "metadata": {
  "kernelspec": {
   "display_name": "Python 3",
   "language": "python",
   "name": "python3"
  },
  "language_info": {
   "codemirror_mode": {
    "name": "ipython",
    "version": 3
   },
   "file_extension": ".py",
   "mimetype": "text/x-python",
   "name": "python",
   "nbconvert_exporter": "python",
   "pygments_lexer": "ipython3",
   "version": "3.5.1"
  }
 },
 "nbformat": 4,
 "nbformat_minor": 0
}
