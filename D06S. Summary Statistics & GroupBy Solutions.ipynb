{
 "cells": [
  {
   "cell_type": "markdown",
   "metadata": {},
   "source": [
    "# D06S: Summary Statistics & GroupBy Solutions"
   ]
  },
  {
   "cell_type": "markdown",
   "metadata": {
    "collapsed": true
   },
   "source": [
    "#### Exercise 1: Using the <a href = \"https://vincentarelbundock.github.io/Rdatasets/doc/datasets/Titanic.html\">titanic survivors csv dataset</a> :\n",
    "\n",
    "1) Import the data and create a pandas dataframe<br/>\n",
    "2) Create a summary table of this data. (Hint - this is easier of you create a numeric variable and use sum()) <br/>\n",
    "3) How could you create a percentage variable? (Hint - Google / StackOverflow!)<br/>\n",
    "4) Merge the new Percentage variable onto your summary table\n"
   ]
  },
  {
   "cell_type": "code",
   "execution_count": null,
   "metadata": {
    "collapsed": true
   },
   "outputs": [],
   "source": [
    "import pandas as pd\n",
    "\n",
    "path = \"https://vincentarelbundock.github.io/Rdatasets/csv/COUNT/titanic.csv\""
   ]
  },
  {
   "cell_type": "code",
   "execution_count": null,
   "metadata": {
    "collapsed": false
   },
   "outputs": [],
   "source": [
    "# Q1)\n",
    "\n",
    "tt = pd.read_csv(path)\n",
    "tt = tt.drop('Unnamed: 0', axis=1)\n",
    "tt['passengers'] = 1     # Creating a numeric variable\n",
    "tt.head(5)"
   ]
  },
  {
   "cell_type": "code",
   "execution_count": null,
   "metadata": {
    "collapsed": false
   },
   "outputs": [],
   "source": [
    "# Q2)\n",
    "\n",
    "gp1 = tt.groupby(['class','survived']).sum() # NB. This only works because we created the passengers variable\n",
    "gp1"
   ]
  },
  {
   "cell_type": "code",
   "execution_count": null,
   "metadata": {
    "collapsed": false
   },
   "outputs": [],
   "source": [
    "# Q3) Excellent example here: http://stackoverflow.com/questions/23377108/pandas-percentage-of-total-with-groupby\n",
    "\n",
    "# state_pcts = state_office.groupby(level=0).apply(lambda x: 100*x/float(x.sum()))\n",
    "\n",
    "gp2 = gp1.groupby(level=0).apply(lambda x: 100*x/float(x.sum()))\n",
    "gp2\n"
   ]
  },
  {
   "cell_type": "code",
   "execution_count": null,
   "metadata": {
    "collapsed": false
   },
   "outputs": [],
   "source": [
    "# Q4)\n",
    "\n",
    "gp2 = gp2.rename(columns={'passengers':'passengers %'})\n",
    "gp2\n",
    "gp_merge = pd.merge(left = gp1,\n",
    "                   right = gp2,\n",
    "                   left_index=True, \n",
    "                   right_index=True)\n",
    "gp_merge"
   ]
  },
  {
   "cell_type": "code",
   "execution_count": null,
   "metadata": {
    "collapsed": true
   },
   "outputs": [],
   "source": []
  }
 ],
 "metadata": {
  "kernelspec": {
   "display_name": "Python 3",
   "language": "python",
   "name": "python3"
  },
  "language_info": {
   "codemirror_mode": {
    "name": "ipython",
    "version": 3
   },
   "file_extension": ".py",
   "mimetype": "text/x-python",
   "name": "python",
   "nbconvert_exporter": "python",
   "pygments_lexer": "ipython3",
   "version": "3.5.1"
  }
 },
 "nbformat": 4,
 "nbformat_minor": 0
}
