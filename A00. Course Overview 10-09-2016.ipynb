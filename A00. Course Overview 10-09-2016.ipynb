{
 "cells": [
  {
   "cell_type": "markdown",
   "metadata": {},
   "source": [
    "# Python for Analysts Training"
   ]
  },
  {
   "cell_type": "markdown",
   "metadata": {},
   "source": [
    "Hi! And welcome to the Python for Analysts training course. This covers everything you need to know to start using Python for data analysis and visualisation as well as showcasing some more advanced and snazzy stuff, including Statistics, Machine Learning, Web Scraping / Interaction etc.\n",
    "\n",
    "The course assumes no prior knowledge of Python and will teach you everything you need to know in order to use Python for data analysis and visualisation, including interfacing with Python via the Jupyter interface, using Text Editors / Integrated Development Environments (IDEs), upgrading Python, working with the command line etc.\n",
    "\n",
    "Lastly, note that the course can only hope to give you an introduction to Python for Data Analysis over the 3 days. You'll no doubt want to continue your learning afterward, and the course provides links to relevant material with which to further your development."
   ]
  },
  {
   "cell_type": "markdown",
   "metadata": {},
   "source": [
    "## Structure of the Course"
   ]
  },
  {
   "cell_type": "markdown",
   "metadata": {},
   "source": [
    "The course is designed to cover the best part of 2 days with time for exercises and consolidation in between.\n",
    "\n",
    "You will be expected to have a project to practice with ideally for days 1 and 2 but definitely for day 3! This will allow you to consolidate your Python training and continue to learn and develop.\n",
    "\n",
    "The structure of the course is as follows:\n",
    "\n",
    "## Day 1-2:\n",
    "\n",
    "### <b>Basics</b> \n",
    "\n",
    "* Interfacing with Python\n",
    "* Basic Python Sytnax\n",
    "* Data Structures\n",
    "* Coding concepts\n",
    "* Looping\n",
    "* Enhancing Python with Packages\n",
    "\n",
    "### <b>Working with data</b>\n",
    "\n",
    "* Data Analysis Libraries\n",
    "* Advanced Data Structures\n",
    "* Importing / Exporting Data\n",
    "* Working with DataFrames\n",
    "* Summary Statistics\n",
    "* Tables\n",
    "\n",
    "### <b>Visualisation</b>\n",
    "\n",
    "* Static Visualisation\n",
    "* Statistical Visualisation\n",
    "* Interactive Visualisation\n"
   ]
  },
  {
   "cell_type": "markdown",
   "metadata": {},
   "source": [
    "Those taking the course should note that the best way to consolidate their learning is via your project. Not only will this help you embed what you've leared, but it will also get you used to solving problems and continuing your learning journey in Python!"
   ]
  },
  {
   "cell_type": "markdown",
   "metadata": {},
   "source": [
    "## Following along"
   ]
  },
  {
   "cell_type": "markdown",
   "metadata": {},
   "source": [
    "During the lectures, you might wish to just listen, follow along on your screen, or execute the code in your own blank notebook, make notes etc. All of this is fine so long as you pay attention!\n",
    "\n",
    "In most of the lectures the code is 'pre-baked' - we will explain what it does, execute it and show you and talk you through the output. This means we can give the class our full attention and not focus on finding typos or wondering why code didn't run properly!"
   ]
  }
 ],
 "metadata": {
  "kernelspec": {
   "display_name": "Python 3",
   "language": "python",
   "name": "python3"
  },
  "language_info": {
   "codemirror_mode": {
    "name": "ipython",
    "version": 3
   },
   "file_extension": ".py",
   "mimetype": "text/x-python",
   "name": "python",
   "nbconvert_exporter": "python",
   "pygments_lexer": "ipython3",
   "version": "3.5.1"
  }
 },
 "nbformat": 4,
 "nbformat_minor": 0
}
