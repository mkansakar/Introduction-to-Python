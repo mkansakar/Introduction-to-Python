{
 "cells": [
  {
   "cell_type": "markdown",
   "metadata": {},
   "source": [
    "# B07: Exceptions, Try & Except"
   ]
  },
  {
   "cell_type": "markdown",
   "metadata": {},
   "source": [
    "One of the things that makes Python relatively unique when compared to other analytical tools is its exception handling. \n",
    "\n",
    "Exceptions are basically just a fancy term for errors. When they occur, Python brings back an error message which we can use to identify and correct the error. \n",
    "\n",
    "Firstly lets look at a few common types of error and what they mean:"
   ]
  },
  {
   "cell_type": "markdown",
   "metadata": {},
   "source": [
    "#### SyntaxError (Your syntax is wrong!)"
   ]
  },
  {
   "cell_type": "code",
   "execution_count": null,
   "metadata": {
    "collapsed": false
   },
   "outputs": [],
   "source": [
    "'Hello"
   ]
  },
  {
   "cell_type": "markdown",
   "metadata": {},
   "source": [
    "#### IndentationError  (You haven't indented correctly!)"
   ]
  },
  {
   "cell_type": "code",
   "execution_count": null,
   "metadata": {
    "collapsed": false
   },
   "outputs": [],
   "source": [
    "def error():\n",
    "print('Oh no!!')"
   ]
  },
  {
   "cell_type": "markdown",
   "metadata": {},
   "source": [
    "#### TypeError (You're mixing up types of objects!)"
   ]
  },
  {
   "cell_type": "code",
   "execution_count": null,
   "metadata": {
    "collapsed": false
   },
   "outputs": [],
   "source": [
    "1 + '1'"
   ]
  },
  {
   "cell_type": "markdown",
   "metadata": {},
   "source": [
    "#### NameError (Python doesn't know what you're talking about!)"
   ]
  },
  {
   "cell_type": "code",
   "execution_count": null,
   "metadata": {
    "collapsed": false
   },
   "outputs": [],
   "source": [
    "var = 1\n",
    "print(vra)"
   ]
  },
  {
   "cell_type": "markdown",
   "metadata": {},
   "source": [
    "#### ValueError (The values you're using don't make sense!)"
   ]
  },
  {
   "cell_type": "code",
   "execution_count": null,
   "metadata": {
    "collapsed": false
   },
   "outputs": [],
   "source": [
    "mylist=[1,2,3]\n",
    "mylist.remove(4)"
   ]
  },
  {
   "cell_type": "markdown",
   "metadata": {},
   "source": [
    "Note that these are just a few of the types of errors that can occur. There is a full list <a href = \"https://docs.python.org/2/library/exceptions.html#exception-hierarchy\">here</a>.\n",
    "\n",
    "\n",
    "It's also worth noting that as you install modules/packages/libraries/extensions these will come with their own types of error that you'll have to deal with."
   ]
  },
  {
   "cell_type": "markdown",
   "metadata": {},
   "source": [
    "## Try and Except"
   ]
  },
  {
   "cell_type": "markdown",
   "metadata": {},
   "source": [
    "Now we're a little more clued up on errors, we can start to learn how to handle them using a try and except block. This can sound a little daunting, but essentially they're like if/elif/else statements with a different name. Let's have a look at an example:"
   ]
  },
  {
   "cell_type": "code",
   "execution_count": null,
   "metadata": {
    "collapsed": false
   },
   "outputs": [],
   "source": [
    "a = 1\n",
    "b = '5'          \n",
    "\n",
    "def adder(value):\n",
    "    value = value + 100\n",
    "    print(value)\n",
    "\n",
    "adder(a)"
   ]
  },
  {
   "cell_type": "markdown",
   "metadata": {},
   "source": [
    "With our 'a' variable being an integer, our function will work. However our 'b' variable (which is a string object) produces a TypeError since we're mixing up types of objects:"
   ]
  },
  {
   "cell_type": "code",
   "execution_count": null,
   "metadata": {
    "collapsed": false
   },
   "outputs": [],
   "source": [
    "adder(a)\n",
    "adder(b)"
   ]
  },
  {
   "cell_type": "markdown",
   "metadata": {},
   "source": [
    "We can get Python to handle these errors using a try/except block as follows:"
   ]
  },
  {
   "cell_type": "code",
   "execution_count": null,
   "metadata": {
    "collapsed": false
   },
   "outputs": [],
   "source": [
    "def checker(value):\n",
    "    try:                     # Try tries to execute the code             \n",
    "        value = value + 100      \n",
    "        print(value)\n",
    "    except TypeError:        # Except tells Python how to handle certain exceptions\n",
    "        pass                 # Pass is a way of telling Python to do nothing.\n",
    "    \n",
    "checker(a) \n",
    "checker(b)"
   ]
  },
  {
   "cell_type": "markdown",
   "metadata": {},
   "source": [
    "Now, instead of getting a TypeError when executing checker(b), we get nothing at all because we've used <b>pass</b> which is a way of telling Python to do nothing in an indented block. This means that instead of the code failing, Python will handle the error and continue to execute the code.\n",
    "\n",
    "Note that you can use <b>pass</b> in if/elif/else statements too.\n",
    "\n",
    "However, it's not good practice for us to have our error pass silently so we can amend our code to produce an error:"
   ]
  },
  {
   "cell_type": "code",
   "execution_count": null,
   "metadata": {
    "collapsed": false
   },
   "outputs": [],
   "source": [
    "def checker(value):\n",
    "    try:                      # Try tries to execute the code             \n",
    "        value = value + 100      \n",
    "        print(value)\n",
    "    except TypeError:         # Except tells Python how to handle certain exceptions\n",
    "        print('Invalid Input')# Outputs a custom error\n",
    "    \n",
    "checker(a) \n",
    "checker(b)"
   ]
  },
  {
   "cell_type": "markdown",
   "metadata": {},
   "source": [
    "Or even better, deal with the bad data by converting it to an integer and then processing it:\n"
   ]
  },
  {
   "cell_type": "code",
   "execution_count": null,
   "metadata": {
    "collapsed": false
   },
   "outputs": [],
   "source": [
    "def checker(value):\n",
    "    try:                      # Try tries to execute the code             \n",
    "        value = value + 100      \n",
    "        print(value)\n",
    "    except TypeError:         # Except tells Python how to handle certain exceptions\n",
    "        value = int(value)    # Converts the string value to an integer\n",
    "        value = value + 100      \n",
    "        print(value)\n",
    "        \n",
    "checker(a) \n",
    "checker(b)"
   ]
  },
  {
   "cell_type": "markdown",
   "metadata": {
    "collapsed": true
   },
   "source": [
    "This is only a very brief overview of exceptions, since they're more of a computer programming tool and don't feature a great deal in the analytical aspects of Python. Be sure to check out the links in the section below for some further reading."
   ]
  },
  {
   "cell_type": "markdown",
   "metadata": {},
   "source": [
    "## Further Reading"
   ]
  },
  {
   "cell_type": "markdown",
   "metadata": {},
   "source": [
    "<a href = \"https://docs.python.org/2/library/exceptions.html#exception-hierarchy\">List of Exceptions</a><br/>\n",
    "<a href = \"http://www.tutorialspoint.com/python/python_exceptions.htm\">Exceptions Tutorial</a><br/>\n",
    "<a href = \"http://www.tutorialspoint.com/python/python_loop_control.htm\">Break, Continue & Pass</a><br/>"
   ]
  }
 ],
 "metadata": {
  "kernelspec": {
   "display_name": "Python 3",
   "language": "python",
   "name": "python3"
  },
  "language_info": {
   "codemirror_mode": {
    "name": "ipython",
    "version": 3
   },
   "file_extension": ".py",
   "mimetype": "text/x-python",
   "name": "python",
   "nbconvert_exporter": "python",
   "pygments_lexer": "ipython3",
   "version": "3.5.1"
  }
 },
 "nbformat": 4,
 "nbformat_minor": 0
}
