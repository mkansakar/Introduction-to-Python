{
 "cells": [
  {
   "cell_type": "markdown",
   "metadata": {},
   "source": [
    "# B03E. Functions Exercises"
   ]
  },
  {
   "cell_type": "markdown",
   "metadata": {},
   "source": [
    "## Introduction to Exercises"
   ]
  },
  {
   "cell_type": "markdown",
   "metadata": {},
   "source": [
    "Welcome to the first set of exercises! Whilst doing these we reccomend that you:\n",
    "\n",
    "1) Refer to the lesson notebooks and your notes in order to answer them but <b>don't</b> copy and paste over from them! You'll learn better if you start committing the code to muscle memory through typing!<br/>\n",
    "2) Go beyond the scope of the exercises wherever you can - feel free to try stuff and experiment. It's unlikely that you'll break anything.<br/>\n",
    "3) Google anything that you want to know more about.<br/>\n",
    "4) Copy code over to your Cookbook for future reference.<br/>\n",
    "5) Have fun =)<br/>"
   ]
  },
  {
   "cell_type": "markdown",
   "metadata": {},
   "source": [
    "#### Exercise 1: Create a function that prints the type and value of an object / variable and use it to evaluate variables a through e below."
   ]
  },
  {
   "cell_type": "code",
   "execution_count": null,
   "metadata": {
    "collapsed": true
   },
   "outputs": [],
   "source": [
    "a = 'beans'\n",
    "b = 12\n",
    "c = 34.65\n",
    "d = True\n",
    "e = None"
   ]
  },
  {
   "cell_type": "code",
   "execution_count": null,
   "metadata": {
    "collapsed": false
   },
   "outputs": [],
   "source": []
  },
  {
   "cell_type": "markdown",
   "metadata": {},
   "source": [
    "#### Exercise 2: Create a function that determines how many letters are in a character string and outputs this in a meaningful statement to the user. Then use it to evaluate variables f through j below:"
   ]
  },
  {
   "cell_type": "code",
   "execution_count": null,
   "metadata": {
    "collapsed": true
   },
   "outputs": [],
   "source": [
    "f = 'The Shawshank Redemption'\n",
    "g = 'The Godfather'\n",
    "h = 'The Godfather: Part II'\n",
    "i = 'The Dark Knight'\n",
    "j = \"Schindler's List\""
   ]
  },
  {
   "cell_type": "code",
   "execution_count": null,
   "metadata": {
    "collapsed": false
   },
   "outputs": [],
   "source": []
  },
  {
   "cell_type": "markdown",
   "metadata": {},
   "source": [
    "#### Exercise 3: Create a function using if/elif/else that determines what mode of transport to take based upon the number of people who want to travel:\n",
    "        \n",
    "1-2: Walk<br/>\n",
    "3-5: Car<br/>\n",
    "6-50: Coach<br/>\n",
    "51-100: Train<br/>\n",
    "101+: Plane<br/>\n",
    "\n",
    "#### Then use this function to evaluate variables k through o:"
   ]
  },
  {
   "cell_type": "code",
   "execution_count": null,
   "metadata": {
    "collapsed": true
   },
   "outputs": [],
   "source": [
    "k = 56\n",
    "l = 1\n",
    "m = 4\n",
    "n = 180\n",
    "o = 12"
   ]
  },
  {
   "cell_type": "code",
   "execution_count": null,
   "metadata": {
    "collapsed": false
   },
   "outputs": [],
   "source": [
    "\n"
   ]
  }
 ],
 "metadata": {
  "kernelspec": {
   "display_name": "Python 3",
   "language": "python",
   "name": "python3"
  },
  "language_info": {
   "codemirror_mode": {
    "name": "ipython",
    "version": 3
   },
   "file_extension": ".py",
   "mimetype": "text/x-python",
   "name": "python",
   "nbconvert_exporter": "python",
   "pygments_lexer": "ipython3",
   "version": "3.5.1"
  }
 },
 "nbformat": 4,
 "nbformat_minor": 0
}
