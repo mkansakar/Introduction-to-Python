{
 "cells": [
  {
   "cell_type": "markdown",
   "metadata": {},
   "source": [
    "#  Introduction"
   ]
  },
  {
   "cell_type": "markdown",
   "metadata": {},
   "source": [
    "Welcome to the Introduction to Python."
   ]
  },
  {
   "cell_type": "markdown",
   "metadata": {},
   "source": [
    "## So what is Python?"
   ]
  },
  {
   "cell_type": "markdown",
   "metadata": {},
   "source": [
    "* It's an open source programming language created by a guy called Guido van Rossum in 1989.\n",
    "* Language development is done (in conjunction with the user community of course!) via PEPs or Python Enhancement Protocols. \n",
    " (You can read these at www.Python.org but two great examples are PEP 8 and PEP 20)\n",
    "* <a href = \"https://www.python.org/dev/peps/pep-0008/\">PEP 8</a>\n",
    "\n",
    "* <a href = \"https://www.python.org/dev/peps/pep-0020/\">PEP 20</a>\n",
    "\n",
    "* Python is one of the 'big 2' programming languages for Data Science, the other being R.\n",
    "\n",
    "* an easy and intuitive language just as powerful as major competitors\n",
    "\n",
    "* open source, so anyone can contribute to its development\n",
    "    \n",
    "* code that is as understandable as plain English\n",
    "    \n",
    "* suitability for everyday tasks, allowing for short development times\n",
    "\n",
    "* named after Monty Python's Flying Circus"
   ]
  },
  {
   "cell_type": "markdown",
   "metadata": {},
   "source": [
    "## What makes Python so great?"
   ]
  },
  {
   "cell_type": "markdown",
   "metadata": {},
   "source": [
    "* Factors that are usually considered while choosing a programming Language for are\n",
    "<p>Q) What are the capabilities/features?\n",
    "<p>Q) Learning curve?\n",
    "<p>Q) Skill availability in the market?\n",
    "<p>Q) Support structure?\n",
    "<p>Q) and ofcourse the cost?\n",
    "\n",
    "----\n",
    "* Python can do so many things (e.g. Data, Statistics, Modeling, Visualization, Web development...)\n",
    "* Python's capability can be extended with packages (also called libraries, modules, extensions etc.)\n",
    "* It's syntactically simple\n",
    "* It has an energized user/developer community \n",
    "* Easy to get answers to questions (e.g. Stack Overflow)\n",
    "* It's open source\n",
    "* It's free"
   ]
  },
  {
   "cell_type": "markdown",
   "metadata": {},
   "source": [
    "## Which version of Python?"
   ]
  },
  {
   "cell_type": "markdown",
   "metadata": {},
   "source": [
    "* There are two versions of Python in use: \n",
    "   Versions 2 and 3.\n",
    "* Python Data community (Pydata for short) is recommending version 3."
   ]
  },
  {
   "cell_type": "markdown",
   "metadata": {},
   "source": [
    "## Extending Python"
   ]
  },
  {
   "cell_type": "markdown",
   "metadata": {},
   "source": [
    "It's safe to say that on its own Python is pretty useless for Data Science. However, over time the user community has developed a number of packages or libraries for Python. These extend the core functionality and enbable users to do a wider variety of things with it."
   ]
  },
  {
   "cell_type": "markdown",
   "metadata": {},
   "source": [
    "Good examples of packages for Python include:\n",
    "\n",
    "* Pandas for data analysis\n",
    "\n",
    "* Numpy for Mathmatical functions\n",
    "\n",
    "* Scipy for Scientific computing\n",
    "* Sci-kit learn for machine learning\n",
    "* Matplotlib, seaborn, bokeh for data visualisation\n",
    "\n"
   ]
  },
  {
   "cell_type": "markdown",
   "metadata": {},
   "source": [
    "## Distributions"
   ]
  },
  {
   "cell_type": "markdown",
   "metadata": {},
   "source": [
    "### * Anaconda\n",
    "* The Anaconda Installation gathers together 400+ of the most used Python packages and libraries for data analysts \n",
    "* A one stop shop for everything you need to get started\n",
    "* Avoids installation compatability issues between dependent modules\n",
    "* Most popular distribution\n",
    "\n",
    "### * Enthought Canopy\n",
    "* It gathers over 450 core analytic and Python packages\n",
    "\n",
    "### * WinPython"
   ]
  },
  {
   "cell_type": "markdown",
   "metadata": {},
   "source": [
    "## IDE and Execution"
   ]
  },
  {
   "cell_type": "markdown",
   "metadata": {},
   "source": [
    "### The REPL\n",
    "* Double clicking the icon will bring up the REPL with prompt: '>>>' \n",
    "* You Can Interact with Base Python using REPL (Read, Eval, Print, Loop)\n",
    "\n",
    "### Jupyter\n",
    "* Jupyter Notebook is a browser based interface in which you can type and execute code as well as visualise your results\n",
    "\n",
    "### IDE\n",
    "* IDE stands for 'Integrated Development Environment'\n",
    "* Essentially this is a more advanced interface for interacting with Python than the default Python Console (REPL)\n",
    "* IDEs allow us to create, execute, debug and save scripts\n",
    "* Spyder, PyCharm, Rodeo, Visual Studio, Eclipse etc. are some popular IDEs\n",
    "\n",
    "### Text Editor\n",
    "\n",
    "* Text editors are just that - tools for creating,  and saving scripts with limited debugging capability and no functionality to execute.\n",
    "\n",
    "### Note\n",
    "\n",
    "* To save code outside Jupyter, file extension should be .py suffix.This will tell your system that it's a Python file"
   ]
  }
 ],
 "metadata": {
  "kernelspec": {
   "display_name": "Python 3",
   "language": "python",
   "name": "python3"
  },
  "language_info": {
   "codemirror_mode": {
    "name": "ipython",
    "version": 3
   },
   "file_extension": ".py",
   "mimetype": "text/x-python",
   "name": "python",
   "nbconvert_exporter": "python",
   "pygments_lexer": "ipython3",
   "version": "3.6.0"
  }
 },
 "nbformat": 4,
 "nbformat_minor": 0
}
