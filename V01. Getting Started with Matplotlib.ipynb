{
 "cells": [
  {
   "cell_type": "markdown",
   "metadata": {},
   "source": [
    "# V01: Getting Started with Matplotlib"
   ]
  },
  {
   "cell_type": "markdown",
   "metadata": {},
   "source": [
    "As I mentioned previously matplotlib is probably the most used Python data vis package, not only because of it's own functionality, but because there are other libraries (such as Seaborn which we'll meet later) that are built on top of it.\n",
    "\n",
    "One of the reasons that Matplotlib is so popular is because of how wide ranging and versatile it is. It has a wealth of charts and options and an almost infinite level of customisability. However, this comes at the expense of simplicity, and compared toother libraries, you have to write slightly more code. Also, in this day and aof interactive visualisation, Matplotlib has started to look a little dated too, but as we'll see when we meet seaborn, we can still produce some beautiful visuals with it.\n",
    "\n",
    "As you'll see, Matplotlib integrates really well with Pandas making it a really good way to quickly 'eyeball' data."
   ]
  },
  {
   "cell_type": "markdown",
   "metadata": {},
   "source": [
    "## A Basic Line Chart"
   ]
  },
  {
   "cell_type": "markdown",
   "metadata": {},
   "source": [
    "Creating a basic chart in Matplot is easy. First we must import the code and set up the options as follows:"
   ]
  },
  {
   "cell_type": "code",
   "execution_count": null,
   "metadata": {
    "collapsed": false
   },
   "outputs": [],
   "source": [
    "import matplotlib.pyplot as plt # Standard Convention for matplotlib\n",
    "%matplotlib inline    "
   ]
  },
  {
   "cell_type": "markdown",
   "metadata": {},
   "source": [
    "The standard convention for using the matplotlib.pyplot library is plt. Also the %matplotlib inline statement ensures that the outputs are displayed in the Jupyter notebook. This doesn;t just work for matplotlib, but for all data vis libraries, so it's a very handy piece of code!"
   ]
  },
  {
   "cell_type": "markdown",
   "metadata": {},
   "source": [
    "We can now plot our graph as follows:"
   ]
  },
  {
   "cell_type": "code",
   "execution_count": null,
   "metadata": {
    "collapsed": false
   },
   "outputs": [],
   "source": [
    "data1 = [1, 2, 3, 4]       # Base data \n",
    "\n",
    "plt.plot(data1)            # Plotting the data\n",
    "plt.title('Title')         # Setting the title\n",
    "plt.ylabel('Y Axis Label') # Setting the Y Axis Label\n",
    "plt.xlabel('X Axis Label') # Setting the X Axis Label\n",
    "plt.show()                 # Showing the plot"
   ]
  },
  {
   "cell_type": "markdown",
   "metadata": {},
   "source": [
    "The plot() method is extremely versatile and can take multiple series of data:"
   ]
  },
  {
   "cell_type": "code",
   "execution_count": null,
   "metadata": {
    "collapsed": false
   },
   "outputs": [],
   "source": [
    "data2 = [5,12,6,2] \n",
    "\n",
    "plt.plot(data1,data2)      # Plotting the data - syntax is x,y\n",
    "plt.show()                 # Showing the plot"
   ]
  },
  {
   "cell_type": "markdown",
   "metadata": {},
   "source": [
    "## Plotting through Pandas"
   ]
  },
  {
   "cell_type": "markdown",
   "metadata": {},
   "source": [
    "Now we'll explore how we can use Matplotlib through pandas. This makes it really quick and easy to visualise your data. First we must import Pandas:"
   ]
  },
  {
   "cell_type": "code",
   "execution_count": null,
   "metadata": {
    "collapsed": true
   },
   "outputs": [],
   "source": [
    "import pandas as pd\n",
    "import numpy as np"
   ]
  },
  {
   "cell_type": "markdown",
   "metadata": {},
   "source": [
    "Then we can create a dataframe with some random data in and visualise it:"
   ]
  },
  {
   "cell_type": "code",
   "execution_count": null,
   "metadata": {
    "collapsed": false
   },
   "outputs": [],
   "source": [
    "df = pd.DataFrame(np.random.randint(0,10,size=(20, 8)), columns=list('ABCDEFGH'))   # Creating a random dataframe\n",
    "df.plot(legend=False)                                                               # Using the .plot() method"
   ]
  },
  {
   "cell_type": "markdown",
   "metadata": {},
   "source": [
    "You'll see that using the <a href = \"http://pandas.pydata.org/pandas-docs/stable/generated/pandas.DataFrame.plot.html\">plot() method</a> on a dataframe (or a series) will visualise that data for us in Matplotlib for us. \n",
    "\n",
    "The dataframe.plot() method in Pandas does exactly the same thing as plt.plot(data) + plt.show() in Matplotlib\n",
    "\n",
    "This saves us a lot of time and effort through having to convert data structures into the correct format and also means that we can control the data and the visualisation in the same block of code as follows:"
   ]
  },
  {
   "cell_type": "code",
   "execution_count": null,
   "metadata": {
    "collapsed": false
   },
   "outputs": [],
   "source": [
    "df[['A','B']].plot(figsize=(10, 6),legend=False) # Only keeping 2 columns, setting the size of the plot and removing the legend\n",
    "plt.title('Title')                               # Setting the title\n",
    "plt.ylabel('Y Axis Label')                       # Setting the Y Axis Label\n",
    "plt.xlabel('X Axis Label')                       # Setting the X Axis Label"
   ]
  },
  {
   "cell_type": "markdown",
   "metadata": {},
   "source": [
    "For the purposes of this training, we'll be using matplotlib exclusively through pandas... That's to say we'll be using the df.plot() method!\n",
    "\n",
    "Note that the syntax will be different (but still similar) when you use matplotlib on it's own. The principles of hoe matplotlib operates will remain the same however, so it shouldn't be too difficult to switch between the two. You can find an extensive collection of Matplotlib tutorials <a href = 'http://matplotlib.org/users/pyplot_tutorial.html'>here</a>."
   ]
  },
  {
   "cell_type": "markdown",
   "metadata": {},
   "source": [
    "## Bar Charts"
   ]
  },
  {
   "cell_type": "markdown",
   "metadata": {},
   "source": [
    "If you don't specify a graph type, Matplotlib will default to a line chart. If we want to do a bar chart we must use the kind= option as follows:"
   ]
  },
  {
   "cell_type": "code",
   "execution_count": null,
   "metadata": {
    "collapsed": false
   },
   "outputs": [],
   "source": [
    "df[['A','B']].plot(kind='bar',figsize=(10, 6),legend=False)"
   ]
  },
  {
   "cell_type": "markdown",
   "metadata": {},
   "source": [
    "We can create a stacked bar chart by passing the stacked = True option."
   ]
  },
  {
   "cell_type": "code",
   "execution_count": null,
   "metadata": {
    "collapsed": false
   },
   "outputs": [],
   "source": [
    "df.plot(kind='bar',figsize=(10, 6),legend=False, stacked=True)"
   ]
  },
  {
   "cell_type": "markdown",
   "metadata": {},
   "source": [
    "We can also change the bar direction to horizontal by using the kind = 'barh' option:"
   ]
  },
  {
   "cell_type": "code",
   "execution_count": null,
   "metadata": {
    "collapsed": false
   },
   "outputs": [],
   "source": [
    "df.plot(kind='barh',figsize=(10, 6),legend=False, stacked=True)"
   ]
  },
  {
   "cell_type": "markdown",
   "metadata": {},
   "source": [
    "## Scatter Plots"
   ]
  },
  {
   "cell_type": "markdown",
   "metadata": {},
   "source": [
    "Scatter plots operate slightly differently to bar chats, in that we have to pass an x and y value in the options:"
   ]
  },
  {
   "cell_type": "code",
   "execution_count": null,
   "metadata": {
    "collapsed": false
   },
   "outputs": [],
   "source": [
    "df.plot(kind='scatter',x = 'B', y= 'B',figsize=(10, 6),legend=False)"
   ]
  }
 ],
 "metadata": {
  "kernelspec": {
   "display_name": "Python 3",
   "language": "python",
   "name": "python3"
  },
  "language_info": {
   "codemirror_mode": {
    "name": "ipython",
    "version": 3
   },
   "file_extension": ".py",
   "mimetype": "text/x-python",
   "name": "python",
   "nbconvert_exporter": "python",
   "pygments_lexer": "ipython3",
   "version": "3.5.1"
  }
 },
 "nbformat": 4,
 "nbformat_minor": 0
}
