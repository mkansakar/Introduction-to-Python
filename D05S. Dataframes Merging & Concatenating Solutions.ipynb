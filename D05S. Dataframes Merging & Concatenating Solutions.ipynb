{
 "cells": [
  {
   "cell_type": "markdown",
   "metadata": {},
   "source": [
    "# D05S: Dataframes Merging & Concatenating Solutions"
   ]
  },
  {
   "cell_type": "markdown",
   "metadata": {},
   "source": [
    "#### Exercise 1: For the dataframes below:\n",
    "\n",
    "1) Concatenate df1 and df 2<br/>\n",
    "2) Merge df1 and df2 using their index<br/>\n",
    "3) Merge df3 and df4 using the key & UID values<br/>\n",
    "4) merge df3 and df4 by setting the key / UID value as the index on both datasets and then merging on that.<br/>\n",
    "5) What happens when you chance the name of 'data 2' in df4 to 'data 1'?<br/>\n",
    "\n"
   ]
  },
  {
   "cell_type": "code",
   "execution_count": null,
   "metadata": {
    "collapsed": false
   },
   "outputs": [],
   "source": [
    "import pandas as pd\n",
    "import numpy as np\n",
    "\n",
    "df1 = pd.DataFrame({'key':np.arange(10),\n",
    "                 'data 1': np.random.random(10)})\n",
    "\n",
    "df2 = pd.DataFrame({'key':np.arange(10)+10,\n",
    "                 'data 1': np.random.random(10)})\n",
    "\n",
    "\n",
    "df3 = pd.DataFrame({'key':['A1','A2','A3','A3','A4','A5','A6','A7','A8','A8'],\n",
    "                 'data 1': np.arange(10)})\n",
    "\n",
    "df4 = pd.DataFrame({'UID':['A1','A2','A3','A4','A5','A6','A7','A8','A9'],\n",
    "                 'data 2': np.arange(9)+10})"
   ]
  },
  {
   "cell_type": "code",
   "execution_count": null,
   "metadata": {
    "collapsed": false
   },
   "outputs": [],
   "source": [
    "# 1)\n",
    "\n",
    "Q1 = pd.concat([df1,df2])                     # Concatenating the datasets\n",
    "Q1 = Q1.reset_index().drop('index',axis=1)    # Reseting the index and droppin\n",
    "Q1 = Q1[['key','data 1']]                     # Reordering the variables   \n",
    "Q1"
   ]
  },
  {
   "cell_type": "code",
   "execution_count": null,
   "metadata": {
    "collapsed": false
   },
   "outputs": [],
   "source": [
    "# 2)\n",
    "\n",
    "Q2 = pd.merge(left=df3,\n",
    "               right=df4,\n",
    "               left_index=True, \n",
    "               right_index=True)   # Merging the data\n",
    "\n",
    "Q2"
   ]
  },
  {
   "cell_type": "code",
   "execution_count": null,
   "metadata": {
    "collapsed": false
   },
   "outputs": [],
   "source": [
    "# 3)\n",
    "\n",
    "Q3 = pd.merge(left=df3,\n",
    "               right=df4,\n",
    "               left_on='key', \n",
    "               right_on='UID')   # Merging the data\n",
    "Q3 = Q3.drop('UID',axis=1)       # Dropping the repeated variable\n",
    "Q3 = Q3.set_index('key')         # Setting the index as the key value\n",
    "Q3.index.name = None             # Renaming the index to None   \n",
    "Q3"
   ]
  },
  {
   "cell_type": "code",
   "execution_count": null,
   "metadata": {
    "collapsed": false
   },
   "outputs": [],
   "source": [
    "# 4)\n",
    "\n",
    "df3 = df3.set_index('key')\n",
    "df4 = df4.set_index('UID')\n",
    "\n",
    "Q4 = pd.merge(left=df3,\n",
    "              right=df4,\n",
    "              left_index=True, \n",
    "              right_index=True)   # Merging the data\n",
    "\n",
    "Q4\n"
   ]
  },
  {
   "cell_type": "code",
   "execution_count": null,
   "metadata": {
    "collapsed": false
   },
   "outputs": [],
   "source": [
    "df4 = df4.rename(columns={'data 2':'data 1'})\n",
    "\n",
    "Q5 = pd.merge(left=df3,\n",
    "              right=df4,\n",
    "              left_index=True, \n",
    "              right_index=True)   # Merging the data\n",
    "\n",
    "Q5"
   ]
  }
 ],
 "metadata": {
  "kernelspec": {
   "display_name": "Python 3",
   "language": "python",
   "name": "python3"
  },
  "language_info": {
   "codemirror_mode": {
    "name": "ipython",
    "version": 3
   },
   "file_extension": ".py",
   "mimetype": "text/x-python",
   "name": "python",
   "nbconvert_exporter": "python",
   "pygments_lexer": "ipython3",
   "version": "3.5.1"
  }
 },
 "nbformat": 4,
 "nbformat_minor": 0
}
